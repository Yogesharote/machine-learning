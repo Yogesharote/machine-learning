{
 "cells": [
  {
   "cell_type": "code",
   "execution_count": 1,
   "id": "357ebd95",
   "metadata": {},
   "outputs": [],
   "source": [
    "#1.Extract elements at positions 2 to 10 with a step of 2"
   ]
  },
  {
   "cell_type": "code",
   "execution_count": 2,
   "id": "a23d5bef",
   "metadata": {},
   "outputs": [],
   "source": [
    "import numpy as np"
   ]
  },
  {
   "cell_type": "code",
   "execution_count": 3,
   "id": "01e0634a",
   "metadata": {},
   "outputs": [
    {
     "name": "stdout",
     "output_type": "stream",
     "text": [
      "Extracted elements: [ 2  4  6  8 10]\n"
     ]
    }
   ],
   "source": [
    "arr = np.arange(15)\n",
    "result = arr[2:11:2]\n",
    "print(\"Extracted elements:\", result)"
   ]
  },
  {
   "cell_type": "code",
   "execution_count": 4,
   "id": "42909c69",
   "metadata": {},
   "outputs": [],
   "source": [
    "#2.Create a 5x5 matrix and extract a sub-matrix (rows 1 to 3, columns 2 to 4)"
   ]
  },
  {
   "cell_type": "code",
   "execution_count": 5,
   "id": "e10b8012",
   "metadata": {},
   "outputs": [
    {
     "name": "stdout",
     "output_type": "stream",
     "text": [
      "Original matrix:\n",
      " [[ 0  1  2  3  4]\n",
      " [ 5  6  7  8  9]\n",
      " [10 11 12 13 14]\n",
      " [15 16 17 18 19]\n",
      " [20 21 22 23 24]]\n",
      "Sub-matrix:\n",
      " [[ 7  8  9]\n",
      " [12 13 14]\n",
      " [17 18 19]]\n"
     ]
    }
   ],
   "source": [
    "matrix = np.arange(25).reshape(5, 5)\n",
    "sub_matrix = matrix[1:4, 2:5]\n",
    "print(\"Original matrix:\\n\", matrix)\n",
    "print(\"Sub-matrix:\\n\", sub_matrix)"
   ]
  },
  {
   "cell_type": "code",
   "execution_count": 6,
   "id": "0990fecd",
   "metadata": {},
   "outputs": [],
   "source": [
    "#3.Replace all elements in a 1D array greater than 10 with the value 10"
   ]
  },
  {
   "cell_type": "code",
   "execution_count": 7,
   "id": "51da4574",
   "metadata": {},
   "outputs": [
    {
     "name": "stdout",
     "output_type": "stream",
     "text": [
      "Modified array: [ 4 10  7 10  3 10  9]\n"
     ]
    }
   ],
   "source": [
    "arr = np.array([4, 11, 7, 15, 3, 20, 9])\n",
    "arr[arr > 10] = 10\n",
    "print(\"Modified array:\", arr)"
   ]
  },
  {
   "cell_type": "code",
   "execution_count": 8,
   "id": "86704a14",
   "metadata": {},
   "outputs": [],
   "source": [
    "#3. Use fancy indexing to select elements at positions [0, 2, 4, 6]"
   ]
  },
  {
   "cell_type": "code",
   "execution_count": 9,
   "id": "08b972e4",
   "metadata": {},
   "outputs": [
    {
     "name": "stdout",
     "output_type": "stream",
     "text": [
      "Selected elements: [10 30 50 70]\n"
     ]
    }
   ],
   "source": [
    "arr = np.array([10, 20, 30, 40, 50, 60, 70])\n",
    "indices = [0, 2, 4, 6]\n",
    "selected = arr[indices]\n",
    "print(\"Selected elements:\", selected)"
   ]
  },
  {
   "cell_type": "code",
   "execution_count": 10,
   "id": "39a1f8c9",
   "metadata": {},
   "outputs": [],
   "source": [
    "#4. Create a 1D array of 10 elements and reverse it using slicing"
   ]
  },
  {
   "cell_type": "code",
   "execution_count": 11,
   "id": "ef27dff2",
   "metadata": {},
   "outputs": [
    {
     "name": "stdout",
     "output_type": "stream",
     "text": [
      "Original array: [0 1 2 3 4 5 6 7 8 9]\n",
      "Reversed array: [9 8 7 6 5 4 3 2 1 0]\n"
     ]
    }
   ],
   "source": [
    "arr = np.arange(10)\n",
    "reversed_arr = arr[::-1]\n",
    "print(\"Original array:\", arr)\n",
    "print(\"Reversed array:\", reversed_arr)"
   ]
  },
  {
   "cell_type": "code",
   "execution_count": null,
   "id": "c81a41fe",
   "metadata": {},
   "outputs": [],
   "source": []
  }
 ],
 "metadata": {
  "kernelspec": {
   "display_name": "Python 3 (ipykernel)",
   "language": "python",
   "name": "python3"
  },
  "language_info": {
   "codemirror_mode": {
    "name": "ipython",
    "version": 3
   },
   "file_extension": ".py",
   "mimetype": "text/x-python",
   "name": "python",
   "nbconvert_exporter": "python",
   "pygments_lexer": "ipython3",
   "version": "3.11.5"
  }
 },
 "nbformat": 4,
 "nbformat_minor": 5
}
