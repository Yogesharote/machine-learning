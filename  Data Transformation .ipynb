{
 "cells": [
  {
   "cell_type": "code",
   "execution_count": 1,
   "id": "ef499faf",
   "metadata": {},
   "outputs": [],
   "source": [
    "# Create a new column that is the sum of two existing columns using NumPy"
   ]
  },
  {
   "cell_type": "code",
   "execution_count": 2,
   "id": "4505426d",
   "metadata": {},
   "outputs": [],
   "source": [
    "import pandas as pd\n",
    "import numpy as np\n",
    "from sklearn.preprocessing import MinMaxScaler"
   ]
  },
  {
   "cell_type": "code",
   "execution_count": 3,
   "id": "67118bae",
   "metadata": {},
   "outputs": [
    {
     "name": "stdout",
     "output_type": "stream",
     "text": [
      "   Math  Science  Total\n",
      "0    85       88    173\n",
      "1    78       82    160\n",
      "2    90       95    185\n",
      "3    70       72    142\n"
     ]
    }
   ],
   "source": [
    "df = pd.DataFrame({\n",
    "    'Math': [85, 78, 90, 70],\n",
    "    'Science': [88, 82, 95, 72]\n",
    "})\n",
    "df['Total'] = np.add(df['Math'], df['Science'])\n",
    "\n",
    "print(df)"
   ]
  },
  {
   "cell_type": "code",
   "execution_count": 4,
   "id": "e8246bb2",
   "metadata": {},
   "outputs": [],
   "source": [
    "# Apply a mathematical function (e.g., square root) to all elements of a column"
   ]
  },
  {
   "cell_type": "code",
   "execution_count": 5,
   "id": "df36bee1",
   "metadata": {},
   "outputs": [
    {
     "name": "stdout",
     "output_type": "stream",
     "text": [
      "   Math  Science  Total  Sqrt_Science\n",
      "0    85       88    173      9.380832\n",
      "1    78       82    160      9.055385\n",
      "2    90       95    185      9.746794\n",
      "3    70       72    142      8.485281\n"
     ]
    }
   ],
   "source": [
    "df['Sqrt_Science'] = np.sqrt(df['Science'])\n",
    "\n",
    "print(df)"
   ]
  },
  {
   "cell_type": "code",
   "execution_count": 6,
   "id": "2805611e",
   "metadata": {},
   "outputs": [],
   "source": [
    "#  Normalize a numerical column using MinMaxScaler from sklearn"
   ]
  },
  {
   "cell_type": "code",
   "execution_count": 7,
   "id": "9cad23a7",
   "metadata": {},
   "outputs": [
    {
     "name": "stdout",
     "output_type": "stream",
     "text": [
      "   Math  Science  Total  Sqrt_Science  Math_Normalized\n",
      "0    85       88    173      9.380832             0.75\n",
      "1    78       82    160      9.055385             0.40\n",
      "2    90       95    185      9.746794             1.00\n",
      "3    70       72    142      8.485281             0.00\n"
     ]
    }
   ],
   "source": [
    "scaler = MinMaxScaler()\n",
    "df['Math_Normalized'] = scaler.fit_transform(df[['Math']])\n",
    "\n",
    "print(df)"
   ]
  }
 ],
 "metadata": {
  "kernelspec": {
   "display_name": "Python 3 (ipykernel)",
   "language": "python",
   "name": "python3"
  },
  "language_info": {
   "codemirror_mode": {
    "name": "ipython",
    "version": 3
   },
   "file_extension": ".py",
   "mimetype": "text/x-python",
   "name": "python",
   "nbconvert_exporter": "python",
   "pygments_lexer": "ipython3",
   "version": "3.11.5"
  }
 },
 "nbformat": 4,
 "nbformat_minor": 5
}
