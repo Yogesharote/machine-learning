{
 "cells": [
  {
   "cell_type": "code",
   "execution_count": 1,
   "id": "9ea3e951",
   "metadata": {},
   "outputs": [],
   "source": [
    "#1.Compute the square root of each element in a 2D array using vectorized operations"
   ]
  },
  {
   "cell_type": "code",
   "execution_count": 2,
   "id": "76ecfa32",
   "metadata": {},
   "outputs": [],
   "source": [
    "import numpy as np"
   ]
  },
  {
   "cell_type": "code",
   "execution_count": 3,
   "id": "7c92f8b9",
   "metadata": {},
   "outputs": [
    {
     "name": "stdout",
     "output_type": "stream",
     "text": [
      "Original Array:\n",
      " [[ 1  4  9]\n",
      " [16 25 36]]\n",
      "Square Root Array:\n",
      " [[1. 2. 3.]\n",
      " [4. 5. 6.]]\n"
     ]
    }
   ],
   "source": [
    "arr = np.array([[1, 4, 9], [16, 25, 36]])\n",
    "\n",
    "\n",
    "sqrt_arr = np.sqrt(arr)\n",
    "\n",
    "print(\"Original Array:\\n\", arr)\n",
    "print(\"Square Root Array:\\n\", sqrt_arr)"
   ]
  },
  {
   "cell_type": "code",
   "execution_count": 4,
   "id": "59ce9dac",
   "metadata": {},
   "outputs": [],
   "source": [
    "#2.Calculate the dot product of two 1D arrays of size 5"
   ]
  },
  {
   "cell_type": "code",
   "execution_count": 5,
   "id": "b63c0984",
   "metadata": {},
   "outputs": [
    {
     "name": "stdout",
     "output_type": "stream",
     "text": [
      "Array A: [1 2 3 4 5]\n",
      "Array B: [5 4 3 2 1]\n",
      "Dot Product: 35\n"
     ]
    }
   ],
   "source": [
    "a = np.array([1, 2, 3, 4, 5])\n",
    "b = np.array([5, 4, 3, 2, 1])\n",
    "\n",
    "dot_product = np.dot(a, b)\n",
    "\n",
    "print(\"Array A:\", a)\n",
    "print(\"Array B:\", b)\n",
    "print(\"Dot Product:\", dot_product)"
   ]
  },
  {
   "cell_type": "code",
   "execution_count": 6,
   "id": "612d4857",
   "metadata": {},
   "outputs": [],
   "source": [
    "#3.Perform element-wise comparison of two 1D arrays and return an array of boolean values \n",
    "#where the first array has larger elements"
   ]
  },
  {
   "cell_type": "code",
   "execution_count": 7,
   "id": "298014d7",
   "metadata": {},
   "outputs": [
    {
     "name": "stdout",
     "output_type": "stream",
     "text": [
      "Array A: [ 5 10 15]\n",
      "Array B: [ 3 12 10]\n",
      "Comparison (A > B): [ True False  True]\n"
     ]
    }
   ],
   "source": [
    "a = np.array([5, 10, 15])\n",
    "b = np.array([3, 12, 10])\n",
    "\n",
    "comparison = a > b\n",
    "\n",
    "print(\"Array A:\", a)\n",
    "print(\"Array B:\", b)\n",
    "print(\"Comparison (A > B):\", comparison)"
   ]
  },
  {
   "cell_type": "code",
   "execution_count": 8,
   "id": "307a9613",
   "metadata": {},
   "outputs": [],
   "source": [
    "#4.Create a 2D array and apply a vectorized operation to double the value of each element"
   ]
  },
  {
   "cell_type": "code",
   "execution_count": 9,
   "id": "e972d8ad",
   "metadata": {},
   "outputs": [
    {
     "name": "stdout",
     "output_type": "stream",
     "text": [
      "Original Array:\n",
      " [[1 2]\n",
      " [3 4]]\n",
      "Doubled Array:\n",
      " [[2 4]\n",
      " [6 8]]\n"
     ]
    }
   ],
   "source": [
    "arr = np.array([[1, 2], [3, 4]])\n",
    "doubled = arr * 2\n",
    "\n",
    "print(\"Original Array:\\n\", arr)\n",
    "print(\"Doubled Array:\\n\", doubled)"
   ]
  },
  {
   "cell_type": "code",
   "execution_count": 10,
   "id": "dbe955de",
   "metadata": {},
   "outputs": [],
   "source": [
    "#5.Create a 1D array of 100 random integers and compute the sum of all even numbers using vectorized operations"
   ]
  },
  {
   "cell_type": "code",
   "execution_count": 11,
   "id": "00af9ead",
   "metadata": {},
   "outputs": [
    {
     "name": "stdout",
     "output_type": "stream",
     "text": [
      "Random Array:\n",
      " [ 33  37  32  46  43  77  45  85  17  57   2  26  29  23  25  73  40  82\n",
      "  68   1  37  61  41  50  58  60  79  19  48  26 100  85   8  37  19   5\n",
      "   8   6  41  46  45  74  18  83  13  64  27   9  11  20  47  92  23  10\n",
      "  89  83  51  22  90   7  57  16  37  79  62  45  11  20  75  58  17  96\n",
      "  93  22  56   1  97  91  99   4  95  18  16  81   5 100  74  49  87  77\n",
      "  21  43  20  14   4  62  29  95  30   5]\n",
      "Even Numbers:\n",
      " [ 32  46   2  26  40  82  68  50  58  60  48  26 100   8   8   6  46  74\n",
      "  18  64  20  92  10  22  90  16  62  20  58  96  22  56   4  18  16 100\n",
      "  74  20  14   4  62  30]\n",
      "Sum of Even Numbers: 1768\n"
     ]
    }
   ],
   "source": [
    "arr = np.random.randint(1, 101, size=100)\n",
    "\n",
    "even_numbers = arr[arr % 2 == 0]\n",
    "\n",
    "even_sum = np.sum(even_numbers)\n",
    "\n",
    "print(\"Random Array:\\n\", arr)\n",
    "print(\"Even Numbers:\\n\", even_numbers)\n",
    "print(\"Sum of Even Numbers:\", even_sum)"
   ]
  },
  {
   "cell_type": "code",
   "execution_count": null,
   "id": "2fd1cd26",
   "metadata": {},
   "outputs": [],
   "source": []
  }
 ],
 "metadata": {
  "kernelspec": {
   "display_name": "Python 3 (ipykernel)",
   "language": "python",
   "name": "python3"
  },
  "language_info": {
   "codemirror_mode": {
    "name": "ipython",
    "version": 3
   },
   "file_extension": ".py",
   "mimetype": "text/x-python",
   "name": "python",
   "nbconvert_exporter": "python",
   "pygments_lexer": "ipython3",
   "version": "3.11.5"
  }
 },
 "nbformat": 4,
 "nbformat_minor": 5
}
