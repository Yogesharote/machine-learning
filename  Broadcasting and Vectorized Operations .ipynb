{
 "cells": [
  {
   "cell_type": "code",
   "execution_count": 1,
   "id": "95f2d868",
   "metadata": {},
   "outputs": [],
   "source": [
    "#  Broadcast a NumPy array across a DataFrame column to perform a vectorized operation"
   ]
  },
  {
   "cell_type": "code",
   "execution_count": 2,
   "id": "87a136fe",
   "metadata": {},
   "outputs": [],
   "source": [
    "import pandas as pd\n",
    "import numpy as np"
   ]
  },
  {
   "cell_type": "code",
   "execution_count": 3,
   "id": "ec68fe29",
   "metadata": {},
   "outputs": [
    {
     "name": "stdout",
     "output_type": "stream",
     "text": [
      "   Math  Science  English\n",
      "0    82       78       71\n",
      "1    87       91       79\n",
      "2    92       95       86\n"
     ]
    }
   ],
   "source": [
    "df = pd.DataFrame({\n",
    "    'Math': [80, 85, 90],\n",
    "    'Science': [75, 88, 92],\n",
    "    'English': [70, 78, 85]\n",
    "})\n",
    "\n",
    "bonus = np.array([2, 3, 1]) \n",
    "\n",
    "\n",
    "df_with_bonus = df + bonus\n",
    "\n",
    "print(df_with_bonus)"
   ]
  },
  {
   "cell_type": "code",
   "execution_count": 4,
   "id": "3b0be4d3",
   "metadata": {},
   "outputs": [],
   "source": [
    "# Create a new column using a vectorized operation on multiple columns"
   ]
  },
  {
   "cell_type": "code",
   "execution_count": 5,
   "id": "93609c27",
   "metadata": {},
   "outputs": [
    {
     "name": "stdout",
     "output_type": "stream",
     "text": [
      "   Math  Science  English  Weighted_Avg\n",
      "0    80       75       70          75.5\n",
      "1    85       88       78          83.8\n",
      "2    90       92       85          89.1\n"
     ]
    }
   ],
   "source": [
    "df['Weighted_Avg'] = 0.4 * df['Math'] + 0.3 * df['Science'] + 0.3 * df['English']\n",
    "\n",
    "print(df)"
   ]
  },
  {
   "cell_type": "code",
   "execution_count": 6,
   "id": "ee78518e",
   "metadata": {},
   "outputs": [],
   "source": [
    "# Demonstrate broadcasting by subtracting the mean of each row from the row’s elements"
   ]
  },
  {
   "cell_type": "code",
   "execution_count": 7,
   "id": "f776f62b",
   "metadata": {},
   "outputs": [
    {
     "name": "stdout",
     "output_type": "stream",
     "text": [
      "       Math   Science   English\n",
      "0  5.000000  0.000000 -5.000000\n",
      "1  1.333333  4.333333 -5.666667\n",
      "2  1.000000  3.000000 -4.000000\n"
     ]
    }
   ],
   "source": [
    "row_means = df[['Math', 'Science', 'English']].mean(axis=1)\n",
    "\n",
    "df_centered = df[['Math', 'Science', 'English']].subtract(row_means, axis=0)\n",
    "\n",
    "print(df_centered)"
   ]
  }
 ],
 "metadata": {
  "kernelspec": {
   "display_name": "Python 3 (ipykernel)",
   "language": "python",
   "name": "python3"
  },
  "language_info": {
   "codemirror_mode": {
    "name": "ipython",
    "version": 3
   },
   "file_extension": ".py",
   "mimetype": "text/x-python",
   "name": "python",
   "nbconvert_exporter": "python",
   "pygments_lexer": "ipython3",
   "version": "3.11.5"
  }
 },
 "nbformat": 4,
 "nbformat_minor": 5
}
