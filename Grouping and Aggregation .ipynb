{
 "cells": [
  {
   "cell_type": "code",
   "execution_count": 1,
   "id": "38ba2fbe",
   "metadata": {},
   "outputs": [],
   "source": [
    "# Group by a categorical column and calculate the mean and standard deviation"
   ]
  },
  {
   "cell_type": "code",
   "execution_count": 2,
   "id": "4fbe6143",
   "metadata": {},
   "outputs": [],
   "source": [
    "import pandas as pd\n",
    "import numpy as np"
   ]
  },
  {
   "cell_type": "code",
   "execution_count": 3,
   "id": "d8ad2374",
   "metadata": {},
   "outputs": [
    {
     "name": "stdout",
     "output_type": "stream",
     "text": [
      "               mean          std\n",
      "Department                      \n",
      "Finance     56000.0  1414.213562\n",
      "HR          51000.0  1414.213562\n",
      "IT          61000.0  1414.213562\n"
     ]
    }
   ],
   "source": [
    "df = pd.DataFrame({\n",
    "    'Department': ['HR', 'HR', 'IT', 'IT', 'Finance', 'Finance'],\n",
    "    'Salary': [50000, 52000, 60000, 62000, 55000, 57000]\n",
    "})\n",
    "\n",
    "grouped_stats = df.groupby('Department')['Salary'].agg(['mean', 'std'])\n",
    "\n",
    "print(grouped_stats)"
   ]
  },
  {
   "cell_type": "code",
   "execution_count": 4,
   "id": "9822f4a8",
   "metadata": {},
   "outputs": [],
   "source": [
    "# Use groupby() to calculate the sum of a column, then apply a NumPy function"
   ]
  },
  {
   "cell_type": "code",
   "execution_count": 5,
   "id": "13193ff8",
   "metadata": {},
   "outputs": [
    {
     "name": "stdout",
     "output_type": "stream",
     "text": [
      "Department\n",
      "Finance    334.664011\n",
      "HR         319.374388\n",
      "IT         349.284984\n",
      "Name: Salary, dtype: float64\n"
     ]
    }
   ],
   "source": [
    "sum_by_dept = df.groupby('Department')['Salary'].sum()\n",
    "\n",
    "sqrt_sum = np.sqrt(sum_by_dept)\n",
    "\n",
    "print(sqrt_sum)"
   ]
  },
  {
   "cell_type": "code",
   "execution_count": 6,
   "id": "5d257121",
   "metadata": {},
   "outputs": [],
   "source": [
    "# Create a pivot table with two categorical columns and summarize using NumPy"
   ]
  },
  {
   "cell_type": "code",
   "execution_count": 7,
   "id": "2adca897",
   "metadata": {},
   "outputs": [
    {
     "name": "stdout",
     "output_type": "stream",
     "text": [
      "Gender      Female   Male\n",
      "Department               \n",
      "Finance      57000  55000\n",
      "HR           52000  50000\n",
      "IT           62000  60000\n"
     ]
    }
   ],
   "source": [
    "df2 = pd.DataFrame({\n",
    "    'Department': ['HR', 'HR', 'IT', 'IT', 'Finance', 'Finance'],\n",
    "    'Gender': ['Male', 'Female', 'Male', 'Female', 'Male', 'Female'],\n",
    "    'Salary': [50000, 52000, 60000, 62000, 55000, 57000]\n",
    "})\n",
    "\n",
    "pivot_table = pd.pivot_table(df2, index='Department', columns='Gender', values='Salary', aggfunc=np.mean)\n",
    "\n",
    "print(pivot_table)"
   ]
  }
 ],
 "metadata": {
  "kernelspec": {
   "display_name": "Python 3 (ipykernel)",
   "language": "python",
   "name": "python3"
  },
  "language_info": {
   "codemirror_mode": {
    "name": "ipython",
    "version": 3
   },
   "file_extension": ".py",
   "mimetype": "text/x-python",
   "name": "python",
   "nbconvert_exporter": "python",
   "pygments_lexer": "ipython3",
   "version": "3.11.5"
  }
 },
 "nbformat": 4,
 "nbformat_minor": 5
}
