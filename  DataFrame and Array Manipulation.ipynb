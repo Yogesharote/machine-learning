{
 "cells": [
  {
   "cell_type": "code",
   "execution_count": 1,
   "id": "a8d29f8b",
   "metadata": {},
   "outputs": [],
   "source": [
    "# DataFrame and Array Manipulation"
   ]
  },
  {
   "cell_type": "code",
   "execution_count": 2,
   "id": "4403c69e",
   "metadata": {},
   "outputs": [],
   "source": [
    "import pandas as pd\n",
    "import numpy as np"
   ]
  },
  {
   "cell_type": "code",
   "execution_count": 3,
   "id": "54fb7a35",
   "metadata": {},
   "outputs": [
    {
     "name": "stdout",
     "output_type": "stream",
     "text": [
      "    A   B\n",
      "0  11  14\n",
      "1  12  15\n",
      "2  13  16\n"
     ]
    }
   ],
   "source": [
    "df = pd.DataFrame({\n",
    "    'A': [1, 2, 3],\n",
    "    'B': [4, 5, 6]\n",
    "})\n",
    "\n",
    "\n",
    "array = df.to_numpy()\n",
    "\n",
    "modified_array = array + 10\n",
    "\n",
    "\n",
    "df_modified = pd.DataFrame(modified_array, columns=df.columns)\n",
    "\n",
    "print(df_modified)"
   ]
  },
  {
   "cell_type": "code",
   "execution_count": 4,
   "id": "89bd0759",
   "metadata": {},
   "outputs": [],
   "source": [
    "# Generate a DataFrame with random values using NumPy and filter rows"
   ]
  },
  {
   "cell_type": "code",
   "execution_count": 5,
   "id": "e3893af8",
   "metadata": {},
   "outputs": [
    {
     "name": "stdout",
     "output_type": "stream",
     "text": [
      "          X         Y         Z\n",
      "0  0.548814  0.715189  0.602763\n",
      "1  0.544883  0.423655  0.645894\n"
     ]
    }
   ],
   "source": [
    "np.random.seed(0)  \n",
    "random_data = np.random.rand(6, 3)\n",
    "\n",
    "df_random = pd.DataFrame(random_data, columns=['X', 'Y', 'Z'])\n",
    "\n",
    "filtered_df = df_random[(df_random['X'] > 0.5) & (df_random['Y'] < 0.8)]\n",
    "\n",
    "print(filtered_df)"
   ]
  },
  {
   "cell_type": "code",
   "execution_count": 6,
   "id": "10eb4758",
   "metadata": {},
   "outputs": [],
   "source": [
    "#  Apply a custom NumPy function to two arrays and store result in a DataFrame"
   ]
  },
  {
   "cell_type": "code",
   "execution_count": 7,
   "id": "95109ccb",
   "metadata": {},
   "outputs": [
    {
     "name": "stdout",
     "output_type": "stream",
     "text": [
      "   Col1  Col2  Col3\n",
      "0    15    45    95\n",
      "1   165   255   365\n"
     ]
    }
   ],
   "source": [
    "a = np.array([[1, 2, 3],\n",
    "              [4, 5, 6]])\n",
    "b = np.array([[10, 20, 30],\n",
    "              [40, 50, 60]])\n",
    "\n",
    "def custom_function(x, y):\n",
    "    return x * y + 5\n",
    "\n",
    "result = custom_function(a, b)\n",
    "\n",
    "\n",
    "df_result = pd.DataFrame(result, columns=['Col1', 'Col2', 'Col3'])\n",
    "\n",
    "print(df_result)"
   ]
  }
 ],
 "metadata": {
  "kernelspec": {
   "display_name": "Python 3 (ipykernel)",
   "language": "python",
   "name": "python3"
  },
  "language_info": {
   "codemirror_mode": {
    "name": "ipython",
    "version": 3
   },
   "file_extension": ".py",
   "mimetype": "text/x-python",
   "name": "python",
   "nbconvert_exporter": "python",
   "pygments_lexer": "ipython3",
   "version": "3.11.5"
  }
 },
 "nbformat": 4,
 "nbformat_minor": 5
}
