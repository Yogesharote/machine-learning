{
 "cells": [
  {
   "cell_type": "code",
   "execution_count": 1,
   "id": "223a4ccc",
   "metadata": {},
   "outputs": [],
   "source": [
    "# Create a NumPy array from a DataFrame column and perform element-wise operations"
   ]
  },
  {
   "cell_type": "code",
   "execution_count": 2,
   "id": "e5514c3a",
   "metadata": {},
   "outputs": [],
   "source": [
    "import pandas as pd\n",
    "import numpy as np"
   ]
  },
  {
   "cell_type": "code",
   "execution_count": 3,
   "id": "b795c61c",
   "metadata": {},
   "outputs": [
    {
     "name": "stdout",
     "output_type": "stream",
     "text": [
      "Original Marks: [ 60  70  80  90 100]\n",
      "Updated Marks: [ 65  75  85  95 105]\n"
     ]
    }
   ],
   "source": [
    "df = pd.DataFrame({\n",
    "    'Marks': [60, 70, 80, 90, 100]\n",
    "})\n",
    "\n",
    "marks_array = df['Marks'].to_numpy()\n",
    "\n",
    "updated_marks = marks_array + 5\n",
    "\n",
    "print(\"Original Marks:\", marks_array)\n",
    "print(\"Updated Marks:\", updated_marks)"
   ]
  },
  {
   "cell_type": "code",
   "execution_count": 4,
   "id": "cf04009d",
   "metadata": {},
   "outputs": [],
   "source": [
    "# Reshape a NumPy array and assign it back to a new DataFrame column"
   ]
  },
  {
   "cell_type": "code",
   "execution_count": 5,
   "id": "53a0dd93",
   "metadata": {},
   "outputs": [
    {
     "name": "stdout",
     "output_type": "stream",
     "text": [
      "   Marks  Updated_Marks\n",
      "0     60             65\n",
      "1     70             75\n",
      "2     80             85\n",
      "3     90             95\n",
      "4    100            105\n"
     ]
    }
   ],
   "source": [
    "reshaped_marks = updated_marks.reshape(-1, 1)\n",
    "\n",
    "df['Updated_Marks'] = reshaped_marks\n",
    "\n",
    "print(df)"
   ]
  },
  {
   "cell_type": "code",
   "execution_count": 6,
   "id": "e323289a",
   "metadata": {},
   "outputs": [],
   "source": [
    "# Use NumPy to filter DataFrame rows where column values exceed a threshold"
   ]
  },
  {
   "cell_type": "code",
   "execution_count": 7,
   "id": "2b8a2f02",
   "metadata": {},
   "outputs": [
    {
     "name": "stdout",
     "output_type": "stream",
     "text": [
      "   Marks  Updated_Marks\n",
      "2     80             85\n",
      "3     90             95\n",
      "4    100            105\n"
     ]
    }
   ],
   "source": [
    "filter_condition = df['Marks'].to_numpy() > 75\n",
    "filtered_df = df[filter_condition]\n",
    "\n",
    "print(filtered_df)"
   ]
  }
 ],
 "metadata": {
  "kernelspec": {
   "display_name": "Python 3 (ipykernel)",
   "language": "python",
   "name": "python3"
  },
  "language_info": {
   "codemirror_mode": {
    "name": "ipython",
    "version": 3
   },
   "file_extension": ".py",
   "mimetype": "text/x-python",
   "name": "python",
   "nbconvert_exporter": "python",
   "pygments_lexer": "ipython3",
   "version": "3.11.5"
  }
 },
 "nbformat": 4,
 "nbformat_minor": 5
}
