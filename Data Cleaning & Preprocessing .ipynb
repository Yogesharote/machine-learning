{
 "cells": [
  {
   "cell_type": "code",
   "execution_count": 1,
   "id": "928245d8",
   "metadata": {},
   "outputs": [],
   "source": [
    "# 1. Load a dataset with mixed data types and clean the data by removing or correcting any non-numeric values"
   ]
  },
  {
   "cell_type": "code",
   "execution_count": 2,
   "id": "34ea4a20",
   "metadata": {},
   "outputs": [],
   "source": [
    "import pandas as pd\n",
    "import numpy as np\n",
    "from sklearn.preprocessing import StandardScaler, LabelEncoder\n",
    "from sklearn.model_selection import train_test_split"
   ]
  },
  {
   "cell_type": "code",
   "execution_count": 3,
   "id": "f88c9753",
   "metadata": {},
   "outputs": [],
   "source": [
    "df = pd.read_csv(r\"C:\\Users\\PCS\\Downloads\\Jala Acadamy Data Science\\Quikr_car.csv\")"
   ]
  },
  {
   "cell_type": "code",
   "execution_count": 4,
   "id": "63a5860d",
   "metadata": {},
   "outputs": [
    {
     "name": "stdout",
     "output_type": "stream",
     "text": [
      "          Price  Kms_driven\n",
      "0      380000.0       35056\n",
      "1      465000.0       44000\n",
      "2     1350000.0       42917\n",
      "3     1019699.0       16112\n",
      "4      713499.0       30988\n",
      "...         ...         ...\n",
      "1027   229000.0       65000\n",
      "1028   275000.0       60000\n",
      "1029  1750000.0       31000\n",
      "1030  1750000.0       31000\n",
      "1031  1750000.0       31000\n",
      "\n",
      "[1026 rows x 2 columns]\n"
     ]
    }
   ],
   "source": [
    "df['Price'] = df['Price'].str.replace('₹', '', regex=False).str.replace(',', '', regex=False)\n",
    "\n",
    "df['Price'] = pd.to_numeric(df['Price'], errors='coerce') \n",
    "\n",
    "\n",
    "df['Kms_driven'] = df['Kms_driven'].str.replace('kms', '', regex=False).str.replace(',', '', regex=False)\n",
    "df['Kms_driven'] = pd.to_numeric(df['Kms_driven'], errors='coerce') \n",
    "\n",
    "df = df.dropna(subset=['Price', 'Kms_driven'])\n",
    "\n",
    "print(df[['Price', 'Kms_driven']])"
   ]
  },
  {
   "cell_type": "code",
   "execution_count": 5,
   "id": "302fc685",
   "metadata": {},
   "outputs": [],
   "source": [
    "# 2. Identify and remove duplicate rows from a DataFrame"
   ]
  },
  {
   "cell_type": "code",
   "execution_count": 6,
   "id": "cd20cff2",
   "metadata": {},
   "outputs": [
    {
     "name": "stdout",
     "output_type": "stream",
     "text": [
      "Removed duplicates. New shape: (1026, 10)\n"
     ]
    }
   ],
   "source": [
    "df_no_duplicates = df.drop_duplicates()\n",
    "\n",
    "print(\"Removed duplicates. New shape:\", df_no_duplicates.shape)"
   ]
  },
  {
   "cell_type": "code",
   "execution_count": 7,
   "id": "dd85f42a",
   "metadata": {},
   "outputs": [],
   "source": [
    "# 3. Normalize a dataset using StandardScaler from scikit-learn"
   ]
  },
  {
   "cell_type": "code",
   "execution_count": 8,
   "id": "171ca5f6",
   "metadata": {},
   "outputs": [
    {
     "name": "stdout",
     "output_type": "stream",
     "text": [
      "          Price  Price_scaled  Kms_driven  Kms_scaled\n",
      "0      380000.0     -0.569072       35056   -0.399836\n",
      "1      465000.0     -0.410848       44000   -0.165236\n",
      "2     1350000.0      1.236542       42917   -0.193643\n",
      "3     1019699.0      0.621701       16112   -0.896734\n",
      "4      713499.0      0.051722       30988   -0.506539\n",
      "...         ...           ...         ...         ...\n",
      "1027   229000.0     -0.850152       65000    0.385591\n",
      "1028   275000.0     -0.764525       60000    0.254441\n",
      "1029  1750000.0      1.981125       31000   -0.506224\n",
      "1030  1750000.0      1.981125       31000   -0.506224\n",
      "1031  1750000.0      1.981125       31000   -0.506224\n",
      "\n",
      "[1026 rows x 4 columns]\n"
     ]
    }
   ],
   "source": [
    "scaler = StandardScaler()\n",
    "df[['Price_scaled', 'Kms_scaled']] = scaler.fit_transform(df[['Price', 'Kms_driven']])\n",
    "\n",
    "print(df[['Price', 'Price_scaled', 'Kms_driven', 'Kms_scaled']])"
   ]
  },
  {
   "cell_type": "code",
   "execution_count": 9,
   "id": "99b23bcb",
   "metadata": {},
   "outputs": [],
   "source": [
    "# 4. Convert a categorical column to numeric using label encoding"
   ]
  },
  {
   "cell_type": "code",
   "execution_count": 10,
   "id": "f1d915bd",
   "metadata": {},
   "outputs": [
    {
     "name": "stdout",
     "output_type": "stream",
     "text": [
      "     Fuel_type  Fuel_type_encoded\n",
      "0       Petrol                  7\n",
      "1       Petrol                  7\n",
      "2       Petrol                  7\n",
      "3      Petrol                   8\n",
      "4      Petrol                   8\n",
      "...        ...                ...\n",
      "1027   Petrol                   8\n",
      "1028    Petrol                  7\n",
      "1029   Diesel                   3\n",
      "1030   Diesel                   3\n",
      "1031   Diesel                   3\n",
      "\n",
      "[1026 rows x 2 columns]\n"
     ]
    }
   ],
   "source": [
    "le = LabelEncoder()\n",
    "df['Fuel_type_encoded'] = le.fit_transform(df['Fuel_type'])\n",
    "\n",
    "print(df[['Fuel_type', 'Fuel_type_encoded']])"
   ]
  },
  {
   "cell_type": "code",
   "execution_count": 11,
   "id": "34d2fb10",
   "metadata": {},
   "outputs": [],
   "source": [
    "# 5. Split a dataset into training and testing sets using an 80-20 split"
   ]
  },
  {
   "cell_type": "code",
   "execution_count": 12,
   "id": "1c3247b9",
   "metadata": {},
   "outputs": [
    {
     "name": "stdout",
     "output_type": "stream",
     "text": [
      "Training Set Size: (820, 13)\n",
      "Testing Set Size: (206, 13)\n"
     ]
    }
   ],
   "source": [
    "train_set, test_set = train_test_split(df, test_size=0.2, shuffle=True, random_state=42)\n",
    "\n",
    "print(\"Training Set Size:\", train_set.shape)\n",
    "print(\"Testing Set Size:\", test_set.shape)"
   ]
  }
 ],
 "metadata": {
  "kernelspec": {
   "display_name": "Python 3 (ipykernel)",
   "language": "python",
   "name": "python3"
  },
  "language_info": {
   "codemirror_mode": {
    "name": "ipython",
    "version": 3
   },
   "file_extension": ".py",
   "mimetype": "text/x-python",
   "name": "python",
   "nbconvert_exporter": "python",
   "pygments_lexer": "ipython3",
   "version": "3.11.5"
  }
 },
 "nbformat": 4,
 "nbformat_minor": 5
}
