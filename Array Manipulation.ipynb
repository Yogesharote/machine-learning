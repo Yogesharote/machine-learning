{
 "cells": [
  {
   "cell_type": "code",
   "execution_count": 1,
   "id": "9ae5c854",
   "metadata": {},
   "outputs": [],
   "source": [
    "#1. Reshape a 1D array of 12 elements into a 3x4 matrix"
   ]
  },
  {
   "cell_type": "code",
   "execution_count": 2,
   "id": "e056b81a",
   "metadata": {},
   "outputs": [],
   "source": [
    "import numpy as np"
   ]
  },
  {
   "cell_type": "code",
   "execution_count": 3,
   "id": "d8dfc01d",
   "metadata": {},
   "outputs": [
    {
     "name": "stdout",
     "output_type": "stream",
     "text": [
      "3x4 Matrix:\n",
      "[[ 0  1  2  3]\n",
      " [ 4  5  6  7]\n",
      " [ 8  9 10 11]]\n"
     ]
    }
   ],
   "source": [
    "array_1d = np.arange(12)  \n",
    "matrix_3x4 = array_1d.reshape(3, 4)\n",
    "\n",
    "print(\"3x4 Matrix:\")\n",
    "print(matrix_3x4)"
   ]
  },
  {
   "cell_type": "code",
   "execution_count": 4,
   "id": "21b4cbbc",
   "metadata": {},
   "outputs": [],
   "source": [
    "#2. Flatten a 3x3 matrix into a 1D array"
   ]
  },
  {
   "cell_type": "code",
   "execution_count": 5,
   "id": "2606f73e",
   "metadata": {},
   "outputs": [
    {
     "name": "stdout",
     "output_type": "stream",
     "text": [
      "Flattened Array:\n",
      "[1 2 3 4 5 6 7 8 9]\n"
     ]
    }
   ],
   "source": [
    "matrix_3x3 = np.array([[1, 2, 3], [4, 5, 6], [7, 8, 9]])\n",
    "\n",
    "flattened_array = matrix_3x3.flatten()\n",
    "\n",
    "print(\"Flattened Array:\")\n",
    "print(flattened_array)"
   ]
  },
  {
   "cell_type": "code",
   "execution_count": 6,
   "id": "b687a322",
   "metadata": {},
   "outputs": [],
   "source": [
    "#3. Stack two 3x3 matrices horizontally and vertically"
   ]
  },
  {
   "cell_type": "code",
   "execution_count": 7,
   "id": "aa48b192",
   "metadata": {},
   "outputs": [
    {
     "name": "stdout",
     "output_type": "stream",
     "text": [
      "Vertical Stack:\n",
      "[[ 1  2  3]\n",
      " [ 4  5  6]\n",
      " [ 7  8  9]\n",
      " [10 11 12]\n",
      " [13 14 15]\n",
      " [16 17 18]]\n",
      "Horizontal Stack:\n",
      "[[ 1  2  3 10 11 12]\n",
      " [ 4  5  6 13 14 15]\n",
      " [ 7  8  9 16 17 18]]\n"
     ]
    }
   ],
   "source": [
    "a = np.array([[1, 2, 3],\n",
    "              [4, 5, 6],\n",
    "              [7, 8, 9]])\n",
    "\n",
    "b = np.array([[10, 11, 12],\n",
    "              [13, 14, 15],\n",
    "              [16, 17, 18]])\n",
    "\n",
    "\n",
    "v_stack = np.vstack((a, b))\n",
    "print(\"Vertical Stack:\")\n",
    "print(v_stack)\n",
    "\n",
    "h_stack = np.hstack((a, b))\n",
    "print(\"Horizontal Stack:\")\n",
    "print(h_stack)"
   ]
  },
  {
   "cell_type": "code",
   "execution_count": 8,
   "id": "e5de5071",
   "metadata": {},
   "outputs": [],
   "source": [
    "#4. Concatenate two arrays of different sizes along a new axis"
   ]
  },
  {
   "cell_type": "code",
   "execution_count": 9,
   "id": "e723c648",
   "metadata": {},
   "outputs": [
    {
     "name": "stdout",
     "output_type": "stream",
     "text": [
      "Concatenated (different sizes) along new axis:\n",
      "[array([1, 2, 3]) array([4, 5])]\n"
     ]
    }
   ],
   "source": [
    "x = np.array([1, 2, 3])\n",
    "y = np.array([4, 5])\n",
    "\n",
    "concatenated = np.array([x, y], dtype=object)\n",
    "\n",
    "print(\"Concatenated (different sizes) along new axis:\")\n",
    "print(concatenated)"
   ]
  },
  {
   "cell_type": "code",
   "execution_count": 10,
   "id": "3ac9279e",
   "metadata": {},
   "outputs": [],
   "source": [
    "#5. Transpose a 3x2 matrix and reshape it to have 3 rows and 2 columns"
   ]
  },
  {
   "cell_type": "code",
   "execution_count": 11,
   "id": "b83b2030",
   "metadata": {},
   "outputs": [
    {
     "name": "stdout",
     "output_type": "stream",
     "text": [
      "Transposed Matrix:\n",
      "[[1 3 5]\n",
      " [2 4 6]]\n",
      "Reshaped to 3x2:\n",
      "[[1 3]\n",
      " [5 2]\n",
      " [4 6]]\n"
     ]
    }
   ],
   "source": [
    "original = np.array([[1, 2],\n",
    "                     [3, 4],\n",
    "                     [5, 6]])\n",
    "\n",
    "transposed = original.T\n",
    "\n",
    "reshaped = transposed.reshape(3, 2)\n",
    "\n",
    "print(\"Transposed Matrix:\")\n",
    "print(transposed)\n",
    "\n",
    "print(\"Reshaped to 3x2:\")\n",
    "print(reshaped)"
   ]
  },
  {
   "cell_type": "code",
   "execution_count": null,
   "id": "09e3567a",
   "metadata": {},
   "outputs": [],
   "source": []
  }
 ],
 "metadata": {
  "kernelspec": {
   "display_name": "Python 3 (ipykernel)",
   "language": "python",
   "name": "python3"
  },
  "language_info": {
   "codemirror_mode": {
    "name": "ipython",
    "version": 3
   },
   "file_extension": ".py",
   "mimetype": "text/x-python",
   "name": "python",
   "nbconvert_exporter": "python",
   "pygments_lexer": "ipython3",
   "version": "3.11.5"
  }
 },
 "nbformat": 4,
 "nbformat_minor": 5
}
