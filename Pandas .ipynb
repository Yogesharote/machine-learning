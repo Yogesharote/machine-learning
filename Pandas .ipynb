{
 "cells": [
  {
   "cell_type": "code",
   "execution_count": 1,
   "id": "1c7dc58e",
   "metadata": {},
   "outputs": [],
   "source": [
    "# 1.Load a CSV file into a Pandas DataFrame and display the first 10 rows"
   ]
  },
  {
   "cell_type": "code",
   "execution_count": 2,
   "id": "e4eef90c",
   "metadata": {},
   "outputs": [],
   "source": [
    "import pandas as pd"
   ]
  },
  {
   "cell_type": "code",
   "execution_count": 3,
   "id": "e5f91286",
   "metadata": {},
   "outputs": [
    {
     "name": "stdout",
     "output_type": "stream",
     "text": [
      "   Unnamed: 0                                            Name     Label  \\\n",
      "0           0         Ford Figo Duratec Petrol EXI 1.2 - 2015  PLATINUM   \n",
      "1           1          Maruti Suzuki Wagon R VXI BS IV - 2016  PLATINUM   \n",
      "2           2    Hyundai Creta 1.6 SX PLUS AUTO PETROL - 2018  PLATINUM   \n",
      "3           3                            Hyundai Venue - 2019  PLATINUM   \n",
      "4           4                               Honda Jazz - 2017  PLATINUM   \n",
      "5           5                              Hyundai i20 - 2013  PLATINUM   \n",
      "6           6  Maruti Suzuki Swift Dzire VXi 1.2 BS IV - 2015  PLATINUM   \n",
      "7           7               Toyota Corolla Altis VL AT - 2017  PLATINUM   \n",
      "8           8                              Honda Amaze - 2013  PLATINUM   \n",
      "9           9               Hyundai Elite i20 Asta 1.2 - 2017  PLATINUM   \n",
      "\n",
      "    Location       Price   Kms_driven Fuel_type       Owner  Year  Company  \n",
      "0  Bangalore   ₹3,80,000  35,056 kms     Petrol         NaN  2015     Ford  \n",
      "1  Bangalore   ₹4,65,000  44,000 kms     Petrol         NaN  2016   Maruti  \n",
      "2  Bangalore  ₹13,50,000  42,917 kms     Petrol         NaN  2018  Hyundai  \n",
      "3    Chennai  ₹10,19,699  16,112 kms    Petrol    2nd Owner  2019  Hyundai  \n",
      "4       Pune   ₹7,13,499  30,988 kms    Petrol    2nd Owner  2017    Honda  \n",
      "5       Pune   ₹3,91,099  69,163 kms    Diesel    2nd Owner  2013  Hyundai  \n",
      "6       Pune   ₹4,74,299  42,859 kms    Petrol    2nd Owner  2015   Maruti  \n",
      "7       Pune  ₹12,52,999  34,919 kms    Petrol    1st Owner  2017   Toyota  \n",
      "8       Pune   ₹3,93,699  44,940 kms     Petrol         NaN  2013    Honda  \n",
      "9       Pune   ₹7,30,899  13,687 kms    Petrol    1st Owner  2017  Hyundai  \n"
     ]
    }
   ],
   "source": [
    "df = pd.read_csv(r\"C:\\Users\\PCS\\Downloads\\Jala Acadamy Data Science\\Quikr_car.csv\")  \n",
    "print(df.head(10)) "
   ]
  },
  {
   "cell_type": "code",
   "execution_count": 4,
   "id": "fee1bcca",
   "metadata": {},
   "outputs": [],
   "source": [
    "# 2. Perform groupby operations to find the mean and sum of numerical columns based on a categorical column"
   ]
  },
  {
   "cell_type": "code",
   "execution_count": 5,
   "id": "a803ea38",
   "metadata": {},
   "outputs": [
    {
     "name": "stdout",
     "output_type": "stream",
     "text": [
      "                   Price               Kms_driven          \n",
      "                    mean        sum          mean       sum\n",
      "Company                                                    \n",
      "Audi        1.961400e+06    9806999  81931.200000    409656\n",
      "BMW         1.511127e+06   10577888  56571.428571    396000\n",
      "Chevrolet   1.438989e+05    1582888  69639.090909    766030\n",
      "Datsun      3.633992e+05    1453597  23537.250000     94149\n",
      "Fiat        2.120000e+05     636000  64333.333333    193000\n",
      "Ford        6.554853e+05   33429752  47526.784314   2423866\n",
      "Honda       6.457128e+05   51011311  50562.126582   3994408\n",
      "Hyundai     6.213540e+05  140426014  48749.915929  11017481\n",
      "Jaguar      3.287500e+06    6575000  45500.000000     91000\n",
      "Jeep        1.782689e+06   17826894  35421.000000    354210\n",
      "Kia         1.458330e+06   14583296  24535.500000    245355\n",
      "Land        4.490000e+06    4490000  51000.000000     51000\n",
      "MG          1.756235e+06   29855987  13855.764706    235548\n",
      "Mahindra    7.363775e+05   30191478  82321.439024   3375179\n",
      "Maruti      5.228073e+05  200235203  45972.921671  17607629\n",
      "Mercedes    3.772222e+06   15088888  56250.000000    225000\n",
      "Nissan      4.497396e+05    2248698  44604.800000    223024\n",
      "Porsche     3.300000e+06    3300000  38000.000000     38000\n",
      "Renault     5.194015e+05   22334265  35300.279070   1517912\n",
      "Skoda       6.900497e+05    4140298  85240.000000    511440\n",
      "Ssangyong   1.231000e+06    1231000  82000.000000     82000\n",
      "Tata        7.078790e+05   31146678  50177.727273   2207820\n",
      "Toyota      1.175983e+06   48215289  95320.609756   3908145\n",
      "Volkswagen  6.104889e+05   17704178  49775.137931   1443479\n",
      "Volvo       2.725000e+06    5450000  98000.000000    196000\n"
     ]
    }
   ],
   "source": [
    "df = df[df['Price'] != 'Ask For Price']\n",
    "df = df.dropna(subset=['Price', 'Kms_driven'])\n",
    "\n",
    "df['Price'] = df['Price'].str.replace('₹', '', regex=False)\\\n",
    "                         .str.replace(',', '', regex=False).astype(int)\n",
    "\n",
    "df['Kms_driven'] = df['Kms_driven'].str.replace(' kms', '', regex=False)\\\n",
    "                                   .str.replace(',', '', regex=False).astype(int)\n",
    "\n",
    "grouped = df.groupby('Company')[['Price', 'Kms_driven']].agg(['mean', 'sum'])\n",
    "\n",
    "print(grouped)"
   ]
  },
  {
   "cell_type": "code",
   "execution_count": 6,
   "id": "1fdd53c9",
   "metadata": {},
   "outputs": [],
   "source": [
    "# 2. Handle missing data in a DataFrame by replacing NaN values with the column mean"
   ]
  },
  {
   "cell_type": "code",
   "execution_count": 7,
   "id": "7d67d71c",
   "metadata": {},
   "outputs": [
    {
     "name": "stdout",
     "output_type": "stream",
     "text": [
      "      Unnamed: 0                                          Name     Label  \\\n",
      "0              0       Ford Figo Duratec Petrol EXI 1.2 - 2015  PLATINUM   \n",
      "1              1        Maruti Suzuki Wagon R VXI BS IV - 2016  PLATINUM   \n",
      "2              2  Hyundai Creta 1.6 SX PLUS AUTO PETROL - 2018  PLATINUM   \n",
      "3              3                          Hyundai Venue - 2019  PLATINUM   \n",
      "4              4                             Honda Jazz - 2017  PLATINUM   \n",
      "...          ...                                           ...       ...   \n",
      "1027        1027                  Hyundai i10 Magna 1.2 - 2014      GOLD   \n",
      "1028        1028         Maruti Suzuki Alto K10 LXi CNG - 2014      GOLD   \n",
      "1029        1029        Jeep Compass Limited 2.0 Diesel - 2017      GOLD   \n",
      "1030        1030        Jeep Compass Limited 2.0 Diesel - 2017      GOLD   \n",
      "1031        1031        Jeep Compass Limited 2.0 Diesel - 2017      GOLD   \n",
      "\n",
      "        Location    Price  Kms_driven Fuel_type       Owner  Year  Company  \n",
      "0      Bangalore   380000       35056    Petrol         NaN  2015     Ford  \n",
      "1      Bangalore   465000       44000    Petrol         NaN  2016   Maruti  \n",
      "2      Bangalore  1350000       42917    Petrol         NaN  2018  Hyundai  \n",
      "3        Chennai  1019699       16112   Petrol    2nd Owner  2019  Hyundai  \n",
      "4           Pune   713499       30988   Petrol    2nd Owner  2017    Honda  \n",
      "...          ...      ...         ...       ...         ...   ...      ...  \n",
      "1027   Bangalore   229000       65000   Petrol    1st Owner  2014  Hyundai  \n",
      "1028   Bangalore   275000       60000    Petrol         NaN  2014   Maruti  \n",
      "1029  Mahasamund  1750000       31000   Diesel    1st Owner  2017     Jeep  \n",
      "1030    Bilaspur  1750000       31000   Diesel    1st Owner  2017     Jeep  \n",
      "1031   Jagdalpur  1750000       31000   Diesel    1st Owner  2017     Jeep  \n",
      "\n",
      "[1026 rows x 10 columns]\n"
     ]
    }
   ],
   "source": [
    "df_filled = df.fillna(df.mean(numeric_only=True))\n",
    "print(df_filled)"
   ]
  },
  {
   "cell_type": "code",
   "execution_count": 8,
   "id": "fda0a73e",
   "metadata": {},
   "outputs": [],
   "source": [
    "# 4. Merge two DataFrames on a common key and perform different types of joins"
   ]
  },
  {
   "cell_type": "code",
   "execution_count": 9,
   "id": "b53fd41a",
   "metadata": {},
   "outputs": [
    {
     "name": "stdout",
     "output_type": "stream",
     "text": [
      "Inner Join:\n",
      "    ID     Name  Score\n",
      "0   2      Bob     85\n",
      "1   3  Charlie     90\n",
      "Outer Join:\n",
      "    ID     Name  Score\n",
      "0   1    Alice    NaN\n",
      "1   2      Bob   85.0\n",
      "2   3  Charlie   90.0\n",
      "3   4      NaN   75.0\n",
      "Left Join:\n",
      "    ID     Name  Score\n",
      "0   1    Alice    NaN\n",
      "1   2      Bob   85.0\n",
      "2   3  Charlie   90.0\n",
      "Right Join:\n",
      "    ID     Name  Score\n",
      "0   2      Bob     85\n",
      "1   3  Charlie     90\n",
      "2   4      NaN     75\n"
     ]
    }
   ],
   "source": [
    "df1 = pd.DataFrame({'ID': [1, 2, 3], 'Name': ['Alice', 'Bob', 'Charlie']})\n",
    "df2 = pd.DataFrame({'ID': [2, 3, 4], 'Score': [85, 90, 75]})\n",
    "\n",
    "inner = pd.merge(df1, df2, on='ID', how='inner')\n",
    "outer = pd.merge(df1, df2, on='ID', how='outer')\n",
    "left = pd.merge(df1, df2, on='ID', how='left')\n",
    "right = pd.merge(df1, df2, on='ID', how='right')\n",
    "\n",
    "print(\"Inner Join:\\n\", inner)\n",
    "print(\"Outer Join:\\n\", outer)\n",
    "print(\"Left Join:\\n\", left)\n",
    "print(\"Right Join:\\n\", right)"
   ]
  },
  {
   "cell_type": "code",
   "execution_count": 10,
   "id": "4db7dbc9",
   "metadata": {},
   "outputs": [],
   "source": [
    "# 5.Convert a column of object type into a float type and handle conversion errors"
   ]
  },
  {
   "cell_type": "code",
   "execution_count": 11,
   "id": "9d2c25f1",
   "metadata": {},
   "outputs": [
    {
     "name": "stdout",
     "output_type": "stream",
     "text": [
      "int64\n",
      "0     380000\n",
      "1     465000\n",
      "2    1350000\n",
      "3    1019699\n",
      "4     713499\n",
      "Name: Price, dtype: int64\n"
     ]
    }
   ],
   "source": [
    "df['Price'] = df['Price'].astype(str).str.replace('₹', '', regex=False)\\\n",
    "                                     .str.replace(',', '', regex=False)\n",
    "\n",
    "df['Price'] = pd.to_numeric(df['Price'], errors='coerce')\n",
    "\n",
    "print(df['Price'].dtype)\n",
    "print(df['Price'].head())"
   ]
  },
  {
   "cell_type": "code",
   "execution_count": 12,
   "id": "a612c420",
   "metadata": {},
   "outputs": [],
   "source": [
    "# 6. Filter a DataFrame to select rows where a column's values fall within a given range"
   ]
  },
  {
   "cell_type": "code",
   "execution_count": 13,
   "id": "73e5d974",
   "metadata": {},
   "outputs": [
    {
     "name": "stdout",
     "output_type": "stream",
     "text": [
      "      Unnamed: 0                                  Name     Label   Location  \\\n",
      "4              4                     Honda Jazz - 2017  PLATINUM       Pune   \n",
      "9              9     Hyundai Elite i20 Asta 1.2 - 2017  PLATINUM       Pune   \n",
      "11            11                     Honda Jazz - 2018  PLATINUM       Pune   \n",
      "12            12           Maruti Suzuki Baleno - 2016  PLATINUM       Pune   \n",
      "17            17  Hyundai Elite i20 ASTA 1.2 O  - 2016      GOLD  Bangalore   \n",
      "...          ...                                   ...       ...        ...   \n",
      "1018        1018      Hyundai Elite i20 Era 1.2 - 2018  PLATINUM    Chennai   \n",
      "1019        1019           Maruti Suzuki Baleno - 2016  PLATINUM    Chennai   \n",
      "1022        1022    Maruti Suzuki Vitara Brezza - 2017  PLATINUM    Chennai   \n",
      "1025        1025       Maruti Suzuki Eeco 5 STR - 2020      GOLD     Trichy   \n",
      "1026        1026    Maruti Suzuki Swift VDi ABS - 2018      GOLD      Delhi   \n",
      "\n",
      "       Price  Kms_driven Fuel_type       Owner  Year  Company  \n",
      "4     713499       30988   Petrol    2nd Owner  2017    Honda  \n",
      "9     730899       13687   Petrol    1st Owner  2017  Hyundai  \n",
      "11    707599       21426   Petrol    2nd Owner  2018    Honda  \n",
      "12    688899       68177   Diesel    2nd Owner  2016   Maruti  \n",
      "17    735000       26000    Petrol         NaN  2016  Hyundai  \n",
      "...      ...         ...       ...         ...   ...      ...  \n",
      "1018  534499       26226   Petrol    1st Owner  2018  Hyundai  \n",
      "1019  681399       43287   Petrol    2nd Owner  2016   Maruti  \n",
      "1022  856699       54044   Diesel    2nd Owner  2017   Maruti  \n",
      "1025  525000       13000    Petrol         NaN  2020   Maruti  \n",
      "1026  550000       42000    Diesel         NaN  2018   Maruti  \n",
      "\n",
      "[447 rows x 10 columns]\n"
     ]
    }
   ],
   "source": [
    "filtered_df = df[(df['Price'] >= 500000) & (df['Price'] <= 1000000)]\n",
    "print(filtered_df)"
   ]
  },
  {
   "cell_type": "code",
   "execution_count": 14,
   "id": "492a0a34",
   "metadata": {},
   "outputs": [],
   "source": [
    "# 7. Create a pivot table and analyze data using multiple aggregations"
   ]
  },
  {
   "cell_type": "code",
   "execution_count": 15,
   "id": "2a7e45a4",
   "metadata": {},
   "outputs": [
    {
     "name": "stdout",
     "output_type": "stream",
     "text": [
      "                         sum                                                \\\n",
      "Fuel_type                CNG       CNG       Diesel     Diesel   Electric    \n",
      "Location                                                                     \n",
      "Ahmedabad                NaN        NaN    480000.0   1891000.0        NaN   \n",
      "Anand                    NaN  1069999.0         NaN         NaN        NaN   \n",
      "Bangalore                NaN        NaN  12841898.0  27425878.0   420000.0   \n",
      "Bhubaneswar              NaN        NaN         NaN         NaN        NaN   \n",
      "Bilaspur                 NaN        NaN         NaN   1750000.0        NaN   \n",
      "BolpurSantiniketan       NaN        NaN   1500000.0         NaN        NaN   \n",
      "Chandigarh               NaN        NaN         NaN   1231000.0        NaN   \n",
      "Chennai                  NaN        NaN  44528000.0  31033873.0        NaN   \n",
      "Coimbatore               NaN        NaN         NaN         NaN        NaN   \n",
      "Delhi               250000.0        NaN   1210000.0   1900000.0        NaN   \n",
      "Dhanbad                  NaN        NaN    475000.0         NaN        NaN   \n",
      "Dwarka                   NaN  1069999.0         NaN         NaN        NaN   \n",
      "Faridabad                NaN        NaN         NaN         NaN        NaN   \n",
      "GirSomnath               NaN  1069999.0         NaN         NaN        NaN   \n",
      "Gurgaon                  NaN        NaN    240000.0         NaN        NaN   \n",
      "Hyderabad                NaN        NaN   3744000.0         NaN        NaN   \n",
      "Jagdalpur                NaN        NaN         NaN   1750000.0        NaN   \n",
      "Jaipur                   NaN        NaN   4000000.0         NaN        NaN   \n",
      "Kanchipuram              NaN        NaN    650000.0         NaN        NaN   \n",
      "Kochi                    NaN        NaN    440000.0         NaN        NaN   \n",
      "Kolkata                  NaN        NaN   1700000.0   6978328.0        NaN   \n",
      "Kozhikode                NaN        NaN         NaN   1050000.0        NaN   \n",
      "Kurnool                  NaN        NaN    330000.0         NaN        NaN   \n",
      "Lucknow                  NaN        NaN   2931000.0         NaN        NaN   \n",
      "Madurai                  NaN        NaN  11785000.0         NaN        NaN   \n",
      "Mahasamund               NaN        NaN         NaN   1750000.0        NaN   \n",
      "Malappuram               NaN        NaN   1231000.0         NaN        NaN   \n",
      "Mumbai                   NaN        NaN  16700000.0   8880000.0  3300000.0   \n",
      "Muzaffarnagar            NaN        NaN   1500000.0         NaN        NaN   \n",
      "Nagpur                   NaN        NaN   1146000.0         NaN        NaN   \n",
      "Nanded                   NaN        NaN    200000.0         NaN        NaN   \n",
      "NaviMumbai               NaN        NaN    450000.0         NaN        NaN   \n",
      "Pondicherry              NaN        NaN   2270000.0         NaN        NaN   \n",
      "Pune                625000.0        NaN  11155000.0  63375128.0        NaN   \n",
      "Surat                    NaN        NaN         NaN   1501000.0        NaN   \n",
      "Thane                    NaN        NaN    450000.0         NaN        NaN   \n",
      "Trichy                   NaN        NaN   3820000.0         NaN        NaN   \n",
      "Udaipur                  NaN        NaN         NaN         NaN        NaN   \n",
      "Uttarpara                NaN        NaN         NaN         NaN        NaN   \n",
      "\n",
      "                                                                 \\\n",
      "Fuel_type            Hybrid        LPG      Petrol      Petrol    \n",
      "Location                                                          \n",
      "Ahmedabad                NaN       NaN         NaN    1531000.0   \n",
      "Anand                    NaN       NaN         NaN          NaN   \n",
      "Bangalore                NaN       NaN  16766099.0  101425221.0   \n",
      "Bhubaneswar              NaN       NaN    524000.0          NaN   \n",
      "Bilaspur                 NaN       NaN         NaN          NaN   \n",
      "BolpurSantiniketan       NaN       NaN         NaN          NaN   \n",
      "Chandigarh               NaN       NaN         NaN          NaN   \n",
      "Chennai                  NaN       NaN  22451499.0   89913534.0   \n",
      "Coimbatore               NaN       NaN         NaN    1550000.0   \n",
      "Delhi               590000.0       NaN    350000.0     336000.0   \n",
      "Dhanbad                  NaN       NaN         NaN          NaN   \n",
      "Dwarka                   NaN       NaN         NaN          NaN   \n",
      "Faridabad                NaN       NaN    820000.0          NaN   \n",
      "GirSomnath               NaN       NaN         NaN          NaN   \n",
      "Gurgaon                  NaN       NaN         NaN          NaN   \n",
      "Hyderabad                NaN  240000.0   2745000.0     795000.0   \n",
      "Jagdalpur                NaN       NaN         NaN          NaN   \n",
      "Jaipur                   NaN       NaN   1165000.0          NaN   \n",
      "Kanchipuram              NaN       NaN         NaN          NaN   \n",
      "Kochi                    NaN       NaN         NaN          NaN   \n",
      "Kolkata                  NaN       NaN    665000.0    3182552.0   \n",
      "Kozhikode                NaN       NaN         NaN          NaN   \n",
      "Kurnool                  NaN       NaN         NaN          NaN   \n",
      "Lucknow                  NaN       NaN         NaN      73000.0   \n",
      "Madurai                  NaN       NaN   3125000.0          NaN   \n",
      "Mahasamund               NaN       NaN         NaN          NaN   \n",
      "Malappuram               NaN       NaN         NaN          NaN   \n",
      "Mumbai                   NaN       NaN  10015000.0     699000.0   \n",
      "Muzaffarnagar            NaN       NaN         NaN          NaN   \n",
      "Nagpur                   NaN       NaN    460000.0          NaN   \n",
      "Nanded                   NaN       NaN         NaN          NaN   \n",
      "NaviMumbai               NaN       NaN         NaN    2049000.0   \n",
      "Pondicherry              NaN       NaN         NaN          NaN   \n",
      "Pune                     NaN       NaN  13788699.0  139158298.0   \n",
      "Surat                    NaN       NaN         NaN    1401000.0   \n",
      "Thane                    NaN       NaN         NaN          NaN   \n",
      "Trichy                   NaN       NaN   1200000.0          NaN   \n",
      "Udaipur                  NaN       NaN    295000.0          NaN   \n",
      "Uttarpara                NaN       NaN     90000.0          NaN   \n",
      "\n",
      "                                       mean                           \\\n",
      "Fuel_type           Petrol + CNG        CNG       CNG         Diesel   \n",
      "Location                                                               \n",
      "Ahmedabad                     NaN       NaN        NaN  4.800000e+05   \n",
      "Anand                         NaN       NaN  1069999.0           NaN   \n",
      "Bangalore                     NaN       NaN        NaN  7.134388e+05   \n",
      "Bhubaneswar                   NaN       NaN        NaN           NaN   \n",
      "Bilaspur                      NaN       NaN        NaN           NaN   \n",
      "BolpurSantiniketan            NaN       NaN        NaN  1.500000e+06   \n",
      "Chandigarh                    NaN       NaN        NaN           NaN   \n",
      "Chennai                       NaN       NaN        NaN  1.012000e+06   \n",
      "Coimbatore                    NaN       NaN        NaN           NaN   \n",
      "Delhi                         NaN  250000.0        NaN  4.033333e+05   \n",
      "Dhanbad                       NaN       NaN        NaN  4.750000e+05   \n",
      "Dwarka                        NaN       NaN  1069999.0           NaN   \n",
      "Faridabad                     NaN       NaN        NaN           NaN   \n",
      "GirSomnath                    NaN       NaN  1069999.0           NaN   \n",
      "Gurgaon                       NaN       NaN        NaN  2.400000e+05   \n",
      "Hyderabad                     NaN       NaN        NaN  9.360000e+05   \n",
      "Jagdalpur                     NaN       NaN        NaN           NaN   \n",
      "Jaipur                        NaN       NaN        NaN  6.666667e+05   \n",
      "Kanchipuram                   NaN       NaN        NaN  6.500000e+05   \n",
      "Kochi                         NaN       NaN        NaN  4.400000e+05   \n",
      "Kolkata                       NaN       NaN        NaN  5.666667e+05   \n",
      "Kozhikode                     NaN       NaN        NaN           NaN   \n",
      "Kurnool                       NaN       NaN        NaN  3.300000e+05   \n",
      "Lucknow                       NaN       NaN        NaN  2.931000e+06   \n",
      "Madurai                       NaN       NaN        NaN  1.309444e+06   \n",
      "Mahasamund                    NaN       NaN        NaN           NaN   \n",
      "Malappuram                    NaN       NaN        NaN  1.231000e+06   \n",
      "Mumbai                        NaN       NaN        NaN  2.783333e+06   \n",
      "Muzaffarnagar                 NaN       NaN        NaN  1.500000e+06   \n",
      "Nagpur                        NaN       NaN        NaN  3.820000e+05   \n",
      "Nanded                        NaN       NaN        NaN  2.000000e+05   \n",
      "NaviMumbai                    NaN       NaN        NaN  4.500000e+05   \n",
      "Pondicherry                   NaN       NaN        NaN  1.135000e+06   \n",
      "Pune                     904598.0  312500.0        NaN  7.436667e+05   \n",
      "Surat                         NaN       NaN        NaN           NaN   \n",
      "Thane                         NaN       NaN        NaN  4.500000e+05   \n",
      "Trichy                        NaN       NaN        NaN  7.640000e+05   \n",
      "Udaipur                       NaN       NaN        NaN           NaN   \n",
      "Uttarpara                     NaN       NaN        NaN           NaN   \n",
      "\n",
      "                                                                               \\\n",
      "Fuel_type                Diesel   Electric    Hybrid        LPG        Petrol   \n",
      "Location                                                                        \n",
      "Ahmedabad           9.455000e+05        NaN       NaN       NaN           NaN   \n",
      "Anand                        NaN        NaN       NaN       NaN           NaN   \n",
      "Bangalore           1.097035e+06   420000.0       NaN       NaN  5.588700e+05   \n",
      "Bhubaneswar                  NaN        NaN       NaN       NaN  2.620000e+05   \n",
      "Bilaspur            1.750000e+06        NaN       NaN       NaN           NaN   \n",
      "BolpurSantiniketan           NaN        NaN       NaN       NaN           NaN   \n",
      "Chandigarh          1.231000e+06        NaN       NaN       NaN           NaN   \n",
      "Chennai             8.387533e+05        NaN       NaN       NaN  3.680574e+05   \n",
      "Coimbatore                   NaN        NaN       NaN       NaN           NaN   \n",
      "Delhi               9.500000e+05        NaN  590000.0       NaN  1.750000e+05   \n",
      "Dhanbad                      NaN        NaN       NaN       NaN           NaN   \n",
      "Dwarka                       NaN        NaN       NaN       NaN           NaN   \n",
      "Faridabad                    NaN        NaN       NaN       NaN  8.200000e+05   \n",
      "GirSomnath                   NaN        NaN       NaN       NaN           NaN   \n",
      "Gurgaon                      NaN        NaN       NaN       NaN           NaN   \n",
      "Hyderabad                    NaN        NaN       NaN  240000.0  5.490000e+05   \n",
      "Jagdalpur           1.750000e+06        NaN       NaN       NaN           NaN   \n",
      "Jaipur                       NaN        NaN       NaN       NaN  2.912500e+05   \n",
      "Kanchipuram                  NaN        NaN       NaN       NaN           NaN   \n",
      "Kochi                        NaN        NaN       NaN       NaN           NaN   \n",
      "Kolkata             9.969040e+05        NaN       NaN       NaN  3.325000e+05   \n",
      "Kozhikode           5.250000e+05        NaN       NaN       NaN           NaN   \n",
      "Kurnool                      NaN        NaN       NaN       NaN           NaN   \n",
      "Lucknow                      NaN        NaN       NaN       NaN           NaN   \n",
      "Madurai                      NaN        NaN       NaN       NaN  1.041667e+06   \n",
      "Mahasamund          1.750000e+06        NaN       NaN       NaN           NaN   \n",
      "Malappuram                   NaN        NaN       NaN       NaN           NaN   \n",
      "Mumbai              1.480000e+06  3300000.0       NaN       NaN  2.003000e+06   \n",
      "Muzaffarnagar                NaN        NaN       NaN       NaN           NaN   \n",
      "Nagpur                       NaN        NaN       NaN       NaN  2.300000e+05   \n",
      "Nanded                       NaN        NaN       NaN       NaN           NaN   \n",
      "NaviMumbai                   NaN        NaN       NaN       NaN           NaN   \n",
      "Pondicherry                  NaN        NaN       NaN       NaN           NaN   \n",
      "Pune                8.802101e+05        NaN       NaN       NaN  4.596233e+05   \n",
      "Surat               1.501000e+06        NaN       NaN       NaN           NaN   \n",
      "Thane                        NaN        NaN       NaN       NaN           NaN   \n",
      "Trichy                       NaN        NaN       NaN       NaN  4.000000e+05   \n",
      "Udaipur                      NaN        NaN       NaN       NaN  2.950000e+05   \n",
      "Uttarpara                    NaN        NaN       NaN       NaN  9.000000e+04   \n",
      "\n",
      "                                                 \n",
      "Fuel_type                Petrol   Petrol + CNG   \n",
      "Location                                         \n",
      "Ahmedabad           7.655000e+05            NaN  \n",
      "Anand                        NaN            NaN  \n",
      "Bangalore           5.572814e+05            NaN  \n",
      "Bhubaneswar                  NaN            NaN  \n",
      "Bilaspur                     NaN            NaN  \n",
      "BolpurSantiniketan           NaN            NaN  \n",
      "Chandigarh                   NaN            NaN  \n",
      "Chennai             5.289031e+05            NaN  \n",
      "Coimbatore          1.550000e+06            NaN  \n",
      "Delhi               3.360000e+05            NaN  \n",
      "Dhanbad                      NaN            NaN  \n",
      "Dwarka                       NaN            NaN  \n",
      "Faridabad                    NaN            NaN  \n",
      "GirSomnath                   NaN            NaN  \n",
      "Gurgaon                      NaN            NaN  \n",
      "Hyderabad           7.950000e+05            NaN  \n",
      "Jagdalpur                    NaN            NaN  \n",
      "Jaipur                       NaN            NaN  \n",
      "Kanchipuram                  NaN            NaN  \n",
      "Kochi                        NaN            NaN  \n",
      "Kolkata             4.546503e+05            NaN  \n",
      "Kozhikode                    NaN            NaN  \n",
      "Kurnool                      NaN            NaN  \n",
      "Lucknow             7.300000e+04            NaN  \n",
      "Madurai                      NaN            NaN  \n",
      "Mahasamund                   NaN            NaN  \n",
      "Malappuram                   NaN            NaN  \n",
      "Mumbai              6.990000e+05            NaN  \n",
      "Muzaffarnagar                NaN            NaN  \n",
      "Nagpur                       NaN            NaN  \n",
      "Nanded                       NaN            NaN  \n",
      "NaviMumbai          1.024500e+06            NaN  \n",
      "Pondicherry                  NaN            NaN  \n",
      "Pune                6.889025e+05       452299.0  \n",
      "Surat               1.401000e+06            NaN  \n",
      "Thane                        NaN            NaN  \n",
      "Trichy                       NaN            NaN  \n",
      "Udaipur                      NaN            NaN  \n"
     ]
    },
    {
     "name": "stdout",
     "output_type": "stream",
     "text": [
      "Uttarpara                    NaN            NaN  \n"
     ]
    }
   ],
   "source": [
    "pivot = df.pivot_table(values='Price', index='Location', columns='Fuel_type', aggfunc=['sum', 'mean'])\n",
    "print(pivot)"
   ]
  },
  {
   "cell_type": "code",
   "execution_count": 16,
   "id": "2c15100a",
   "metadata": {},
   "outputs": [],
   "source": [
    "# 8. Use apply() to apply a custom function to each element in a Series"
   ]
  },
  {
   "cell_type": "code",
   "execution_count": 17,
   "id": "ba8175b8",
   "metadata": {},
   "outputs": [
    {
     "name": "stdout",
     "output_type": "stream",
     "text": [
      "      Kms_driven  KmsSquared\n",
      "0          35056  1228923136\n",
      "1          44000  1936000000\n",
      "2          42917  1841868889\n",
      "3          16112   259596544\n",
      "4          30988   960256144\n",
      "...          ...         ...\n",
      "1027       65000  4225000000\n",
      "1028       60000  3600000000\n",
      "1029       31000   961000000\n",
      "1030       31000   961000000\n",
      "1031       31000   961000000\n",
      "\n",
      "[1026 rows x 2 columns]\n"
     ]
    }
   ],
   "source": [
    "def square(x):\n",
    "    return x ** 2\n",
    "\n",
    "df['KmsSquared'] = df['Kms_driven'].apply(square)\n",
    "print(df[['Kms_driven', 'KmsSquared']])"
   ]
  },
  {
   "cell_type": "code",
   "execution_count": 18,
   "id": "c2e86742",
   "metadata": {},
   "outputs": [],
   "source": [
    "# 9. Create a new column that categorizes a numerical column into bins"
   ]
  },
  {
   "cell_type": "code",
   "execution_count": 19,
   "id": "4cc4e99c",
   "metadata": {},
   "outputs": [
    {
     "name": "stdout",
     "output_type": "stream",
     "text": [
      "      Kms_driven KmsCategory\n",
      "0          35056         Low\n",
      "1          44000      Medium\n",
      "2          42917      Medium\n",
      "3          16112    Very Low\n",
      "4          30988         Low\n",
      "...          ...         ...\n",
      "1027       65000        High\n",
      "1028       60000      Medium\n",
      "1029       31000         Low\n",
      "1030       31000         Low\n",
      "1031       31000         Low\n",
      "\n",
      "[1026 rows x 2 columns]\n"
     ]
    }
   ],
   "source": [
    "bins = [0, 20000, 40000, 60000, 80000, 100000]\n",
    "labels = ['Very Low', 'Low', 'Medium', 'High', 'Very High']\n",
    "df['KmsCategory'] = pd.cut(df['Kms_driven'], bins=bins, labels=labels)\n",
    "print(df[['Kms_driven', 'KmsCategory']])"
   ]
  },
  {
   "cell_type": "code",
   "execution_count": 20,
   "id": "56541255",
   "metadata": {},
   "outputs": [],
   "source": [
    "# 10. Replace all instances of a specific value in a column with another"
   ]
  },
  {
   "cell_type": "code",
   "execution_count": 21,
   "id": "23594af1",
   "metadata": {},
   "outputs": [
    {
     "name": "stdout",
     "output_type": "stream",
     "text": [
      "0              NaN\n",
      "1              NaN\n",
      "2              NaN\n",
      "3        2nd Owner\n",
      "4        2nd Owner\n",
      "           ...    \n",
      "1027     1st Owner\n",
      "1028           NaN\n",
      "1029     1st Owner\n",
      "1030     1st Owner\n",
      "1031     1st Owner\n",
      "Name: Owner, Length: 1026, dtype: object\n"
     ]
    }
   ],
   "source": [
    "df['Owner'] = df['Owner'].replace('2nd Owner', 'Pre-owned')\n",
    "print(df['Owner'])"
   ]
  }
 ],
 "metadata": {
  "kernelspec": {
   "display_name": "Python 3 (ipykernel)",
   "language": "python",
   "name": "python3"
  },
  "language_info": {
   "codemirror_mode": {
    "name": "ipython",
    "version": 3
   },
   "file_extension": ".py",
   "mimetype": "text/x-python",
   "name": "python",
   "nbconvert_exporter": "python",
   "pygments_lexer": "ipython3",
   "version": "3.11.5"
  }
 },
 "nbformat": 4,
 "nbformat_minor": 5
}
