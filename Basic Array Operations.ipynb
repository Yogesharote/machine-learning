{
 "cells": [
  {
   "cell_type": "code",
   "execution_count": 1,
   "id": "6870e855",
   "metadata": {},
   "outputs": [],
   "source": [
    "#1.Create a 3x3 array filled with random integers between 0 and 10. Calculate the sum, mean, \n",
    "#and standard deviation of the array. "
   ]
  },
  {
   "cell_type": "code",
   "execution_count": 2,
   "id": "a73bb56f",
   "metadata": {},
   "outputs": [],
   "source": [
    "import numpy as np"
   ]
  },
  {
   "cell_type": "code",
   "execution_count": 3,
   "id": "2007abc0",
   "metadata": {},
   "outputs": [
    {
     "name": "stdout",
     "output_type": "stream",
     "text": [
      "Array:\n",
      " [[ 4  1  2]\n",
      " [ 2 10  3]\n",
      " [ 7  8  5]]\n",
      "Sum: 42\n",
      "Mean: 4.666666666666667\n",
      "Standard Deviation: 2.9059326290271157\n"
     ]
    }
   ],
   "source": [
    "array = np.random.randint(0, 11, size=(3, 3))\n",
    "\n",
    "print(\"Array:\\n\", array)\n",
    "\n",
    "array_sum = np.sum(array)\n",
    "array_mean = np.mean(array)\n",
    "array_std = np.std(array)\n",
    "\n",
    "print(\"Sum:\", array_sum)\n",
    "print(\"Mean:\", array_mean)\n",
    "print(\"Standard Deviation:\", array_std)\n"
   ]
  },
  {
   "cell_type": "code",
   "execution_count": 4,
   "id": "196fd4a0",
   "metadata": {},
   "outputs": [],
   "source": [
    "#2. Create a 1D array of 10 elements and compute the cumulative sum of the elements. "
   ]
  },
  {
   "cell_type": "code",
   "execution_count": 5,
   "id": "661e11f4",
   "metadata": {},
   "outputs": [
    {
     "name": "stdout",
     "output_type": "stream",
     "text": [
      "Original Array: [ 2  9  2  2  5  1  6  9  4 10]\n",
      "Cumulative Sum: [ 2 11 13 15 20 21 27 36 40 50]\n"
     ]
    }
   ],
   "source": [
    "array = np.random.randint(1, 11, size=10)\n",
    "\n",
    "print(\"Original Array:\", array)\n",
    "\n",
    "cumulative_sum = np.cumsum(array)\n",
    "\n",
    "print(\"Cumulative Sum:\", cumulative_sum)\n"
   ]
  },
  {
   "cell_type": "code",
   "execution_count": 6,
   "id": "cf29445f",
   "metadata": {},
   "outputs": [],
   "source": [
    "#3.Generate two 2x3 arrays with random integers and perform element-wise addition,subtraction, multiplication, and division. "
   ]
  },
  {
   "cell_type": "code",
   "execution_count": 7,
   "id": "c62bf121",
   "metadata": {},
   "outputs": [
    {
     "name": "stdout",
     "output_type": "stream",
     "text": [
      "Array 1:\n",
      " [[ 4  1 10]\n",
      " [ 5  1  3]]\n",
      "Array 2:\n",
      " [[ 8  2 10]\n",
      " [ 1  8  7]]\n",
      "\n",
      "Addition:\n",
      " [[12  3 20]\n",
      " [ 6  9 10]]\n",
      "\n",
      "Subtraction:\n",
      " [[-4 -1  0]\n",
      " [ 4 -7 -4]]\n",
      "\n",
      "Multiplication:\n",
      " [[ 32   2 100]\n",
      " [  5   8  21]]\n",
      "\n",
      "Division:\n",
      " [[0.5        0.5        1.        ]\n",
      " [5.         0.125      0.42857143]]\n"
     ]
    }
   ],
   "source": [
    "array1 = np.random.randint(1, 11, size=(2, 3))\n",
    "array2 = np.random.randint(1, 11, size=(2, 3))\n",
    "\n",
    "print(\"Array 1:\\n\", array1)\n",
    "print(\"Array 2:\\n\", array2)\n",
    "\n",
    "add = array1 + array2\n",
    "subtract = array1 - array2\n",
    "multiply = array1 * array2\n",
    "divide = array1 / array2 \n",
    "\n",
    "print(\"\\nAddition:\\n\", add)\n",
    "print(\"\\nSubtraction:\\n\", subtract)\n",
    "print(\"\\nMultiplication:\\n\", multiply)\n",
    "print(\"\\nDivision:\\n\", divide)"
   ]
  },
  {
   "cell_type": "code",
   "execution_count": 8,
   "id": "e376cfe4",
   "metadata": {},
   "outputs": [],
   "source": [
    "#4. Create a 4x4 identity matrix. "
   ]
  },
  {
   "cell_type": "code",
   "execution_count": 9,
   "id": "fbd5a14d",
   "metadata": {},
   "outputs": [
    {
     "name": "stdout",
     "output_type": "stream",
     "text": [
      "4x4 Identity Matrix:\n",
      " [[1. 0. 0. 0.]\n",
      " [0. 1. 0. 0.]\n",
      " [0. 0. 1. 0.]\n",
      " [0. 0. 0. 1.]]\n"
     ]
    }
   ],
   "source": [
    "identity_matrix = np.identity(4)\n",
    "print(\"4x4 Identity Matrix:\\n\", identity_matrix)"
   ]
  },
  {
   "cell_type": "code",
   "execution_count": 10,
   "id": "20eabc44",
   "metadata": {},
   "outputs": [],
   "source": [
    "#5.Given an array a = np.array([5, 10, 15, 20, 25]), divide each element by 5 using broadcasting."
   ]
  },
  {
   "cell_type": "code",
   "execution_count": 11,
   "id": "a5400bd1",
   "metadata": {},
   "outputs": [
    {
     "name": "stdout",
     "output_type": "stream",
     "text": [
      "Original array: [ 5 10 15 20 25]\n",
      "Array after division by 5: [1. 2. 3. 4. 5.]\n"
     ]
    }
   ],
   "source": [
    "a = np.array([5, 10, 15, 20, 25])\n",
    "\n",
    "result = a / 5\n",
    "\n",
    "print(\"Original array:\", a)\n",
    "print(\"Array after division by 5:\", result)"
   ]
  }
 ],
 "metadata": {
  "kernelspec": {
   "display_name": "Python 3 (ipykernel)",
   "language": "python",
   "name": "python3"
  },
  "language_info": {
   "codemirror_mode": {
    "name": "ipython",
    "version": 3
   },
   "file_extension": ".py",
   "mimetype": "text/x-python",
   "name": "python",
   "nbconvert_exporter": "python",
   "pygments_lexer": "ipython3",
   "version": "3.11.5"
  }
 },
 "nbformat": 4,
 "nbformat_minor": 5
}
