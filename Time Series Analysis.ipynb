{
 "cells": [
  {
   "cell_type": "code",
   "execution_count": 1,
   "id": "1db7f1f8",
   "metadata": {},
   "outputs": [],
   "source": [
    "# Convert a column to time series and perform NumPy operation"
   ]
  },
  {
   "cell_type": "code",
   "execution_count": 2,
   "id": "2cbc67e3",
   "metadata": {},
   "outputs": [],
   "source": [
    "import pandas as pd\n",
    "import numpy as np"
   ]
  },
  {
   "cell_type": "code",
   "execution_count": 3,
   "id": "a0fe2a8d",
   "metadata": {},
   "outputs": [
    {
     "name": "stdout",
     "output_type": "stream",
     "text": [
      "            Value  Sqrt_Value\n",
      "Date                         \n",
      "2024-01-01     10    3.162278\n",
      "2024-01-02     12    3.464102\n",
      "2024-01-03     15    3.872983\n",
      "2024-01-04     20    4.472136\n",
      "2024-01-05     25    5.000000\n"
     ]
    }
   ],
   "source": [
    "\n",
    "df = pd.DataFrame({\n",
    "    'Date': pd.date_range('2024-01-01', periods=5, freq='D'),\n",
    "    'Value': [10, 12, 15, 20, 25]\n",
    "})\n",
    "\n",
    "df.set_index('Date', inplace=True)\n",
    "\n",
    "df['Sqrt_Value'] = np.sqrt(df['Value'])\n",
    "\n",
    "print(df)"
   ]
  },
  {
   "cell_type": "code",
   "execution_count": 4,
   "id": "40932808",
   "metadata": {},
   "outputs": [],
   "source": [
    "# Calculate moving average using Pandas and NumPy"
   ]
  },
  {
   "cell_type": "code",
   "execution_count": 5,
   "id": "3d80046a",
   "metadata": {},
   "outputs": [
    {
     "name": "stdout",
     "output_type": "stream",
     "text": [
      "            Value  Sqrt_Value  Moving_Avg_3\n",
      "Date                                       \n",
      "2024-01-01     10    3.162278           NaN\n",
      "2024-01-02     12    3.464102           NaN\n",
      "2024-01-03     15    3.872983     12.333333\n",
      "2024-01-04     20    4.472136     15.666667\n",
      "2024-01-05     25    5.000000     20.000000\n"
     ]
    }
   ],
   "source": [
    "df['Moving_Avg_3'] = df['Value'].rolling(window=3).apply(np.mean)\n",
    "\n",
    "print(df)"
   ]
  },
  {
   "cell_type": "code",
   "execution_count": 6,
   "id": "e6b69743",
   "metadata": {},
   "outputs": [],
   "source": [
    "#  Convert string to datetime and compute time difference using NumPy"
   ]
  },
  {
   "cell_type": "code",
   "execution_count": 7,
   "id": "9edc4f2c",
   "metadata": {},
   "outputs": [
    {
     "name": "stdout",
     "output_type": "stream",
     "text": [
      "      DateStr       Date  Diff_Days\n",
      "0  2024-01-01 2024-01-01        0.0\n",
      "1  2024-01-03 2024-01-03        2.0\n",
      "2  2024-01-05 2024-01-05        2.0\n",
      "3  2024-01-08 2024-01-08        3.0\n"
     ]
    }
   ],
   "source": [
    "df_time = pd.DataFrame({\n",
    "    'DateStr': ['2024-01-01', '2024-01-03', '2024-01-05', '2024-01-08']\n",
    "})\n",
    "\n",
    "df_time['Date'] = pd.to_datetime(df_time['DateStr'])\n",
    "\n",
    "df_time['Diff_Days'] = np.diff(df_time['Date'].values, prepend=df_time['Date'].values[0]) / np.timedelta64(1, 'D')\n",
    "\n",
    "print(df_time)"
   ]
  }
 ],
 "metadata": {
  "kernelspec": {
   "display_name": "Python 3 (ipykernel)",
   "language": "python",
   "name": "python3"
  },
  "language_info": {
   "codemirror_mode": {
    "name": "ipython",
    "version": 3
   },
   "file_extension": ".py",
   "mimetype": "text/x-python",
   "name": "python",
   "nbconvert_exporter": "python",
   "pygments_lexer": "ipython3",
   "version": "3.11.5"
  }
 },
 "nbformat": 4,
 "nbformat_minor": 5
}
