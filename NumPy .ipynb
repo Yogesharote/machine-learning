{
 "cells": [
  {
   "cell_type": "code",
   "execution_count": 1,
   "id": "03900bfb",
   "metadata": {},
   "outputs": [],
   "source": [
    "# 1. Normalize a NumPy array using Min-Max Scaling"
   ]
  },
  {
   "cell_type": "code",
   "execution_count": 2,
   "id": "3c01f448",
   "metadata": {},
   "outputs": [],
   "source": [
    "import numpy as np"
   ]
  },
  {
   "cell_type": "code",
   "execution_count": 3,
   "id": "ddd9869b",
   "metadata": {},
   "outputs": [
    {
     "name": "stdout",
     "output_type": "stream",
     "text": [
      "Original: [65.46122753 17.12207129 90.84255655 75.74766288 86.52049721 45.13644623\n",
      " 73.6213045  23.42889066  9.0518024  41.57923733]\n",
      "Normalized: [0.68967973 0.0986697  1.         0.81544499 0.94715712 0.44118243\n",
      " 0.78944745 0.17577889 0.         0.39769085]\n"
     ]
    }
   ],
   "source": [
    "data = np.random.rand(10) * 100  \n",
    "\n",
    "normalized = (data - np.min(data)) / (np.max(data) - np.min(data))\n",
    "print(\"Original:\", data)\n",
    "print(\"Normalized:\", normalized)"
   ]
  },
  {
   "cell_type": "code",
   "execution_count": 4,
   "id": "41600d22",
   "metadata": {},
   "outputs": [],
   "source": [
    "# 2. Replace values in a 5x5 random matrix"
   ]
  },
  {
   "cell_type": "code",
   "execution_count": 5,
   "id": "8e4c3647",
   "metadata": {},
   "outputs": [
    {
     "name": "stdout",
     "output_type": "stream",
     "text": [
      "Original matrix:\n",
      " [[8 1 3 3 7]\n",
      " [6 8 2 1 7]\n",
      " [5 5 4 6 8]\n",
      " [6 5 4 6 3]\n",
      " [9 2 6 4 2]]\n",
      "Modified matrix:\n",
      " [[8 1 3 3 7]\n",
      " [6 8 2 1 7]\n",
      " [0 0 4 6 8]\n",
      " [6 0 4 6 3]\n",
      " [9 2 6 4 2]]\n"
     ]
    }
   ],
   "source": [
    "matrix = np.random.randint(1, 10, size=(5, 5)) \n",
    "print(\"Original matrix:\\n\", matrix)\n",
    "\n",
    "matrix[matrix == 5] = 0\n",
    "print(\"Modified matrix:\\n\", matrix)"
   ]
  },
  {
   "cell_type": "code",
   "execution_count": 6,
   "id": "600e970b",
   "metadata": {},
   "outputs": [],
   "source": [
    "# 3. Element-wise operations"
   ]
  },
  {
   "cell_type": "code",
   "execution_count": 7,
   "id": "eda0a155",
   "metadata": {},
   "outputs": [
    {
     "name": "stdout",
     "output_type": "stream",
     "text": [
      "Addition: [5 7 9]\n",
      "Subtraction: [-3 -3 -3]\n",
      "Multiplication: [ 4 10 18]\n",
      "Division: [0.25 0.4  0.5 ]\n"
     ]
    }
   ],
   "source": [
    "a = np.array([1, 2, 3])\n",
    "b = np.array([4, 5, 6])\n",
    "\n",
    "print(\"Addition:\", a + b)\n",
    "print(\"Subtraction:\", a - b)\n",
    "print(\"Multiplication:\", a * b)\n",
    "print(\"Division:\", a / b)"
   ]
  },
  {
   "cell_type": "code",
   "execution_count": 8,
   "id": "6d11562a",
   "metadata": {},
   "outputs": [],
   "source": [
    "# 4.Solve a system of linear equations"
   ]
  },
  {
   "cell_type": "code",
   "execution_count": 9,
   "id": "8759a8a8",
   "metadata": {},
   "outputs": [
    {
     "name": "stdout",
     "output_type": "stream",
     "text": [
      "Solution [x, y]: [1.28571429 0.78571429]\n"
     ]
    }
   ],
   "source": [
    "A = np.array([[3, 4], [5, 2]])\n",
    "B = np.array([7, 8])\n",
    "\n",
    "solution = np.linalg.solve(A, B)\n",
    "print(\"Solution [x, y]:\", solution)"
   ]
  },
  {
   "cell_type": "code",
   "execution_count": 10,
   "id": "db51481c",
   "metadata": {},
   "outputs": [],
   "source": [
    "# 5. Broadcasting with a 3x3 matrix and 1D array"
   ]
  },
  {
   "cell_type": "code",
   "execution_count": 11,
   "id": "7fbfe40e",
   "metadata": {},
   "outputs": [
    {
     "name": "stdout",
     "output_type": "stream",
     "text": [
      "Broadcasted Result:\n",
      " [[2 2 2]\n",
      " [5 5 5]\n",
      " [8 8 8]]\n"
     ]
    }
   ],
   "source": [
    "matrix = np.array([[1, 2, 3],\n",
    "                   [4, 5, 6],\n",
    "                   [7, 8, 9]])\n",
    "array = np.array([1, 0, -1])\n",
    "\n",
    "result = matrix + array\n",
    "print(\"Broadcasted Result:\\n\", result)"
   ]
  },
  {
   "cell_type": "code",
   "execution_count": 12,
   "id": "a071ef98",
   "metadata": {},
   "outputs": [],
   "source": [
    "# 6. Identity matrix"
   ]
  },
  {
   "cell_type": "code",
   "execution_count": 13,
   "id": "31f1584e",
   "metadata": {},
   "outputs": [
    {
     "name": "stdout",
     "output_type": "stream",
     "text": [
      "3x3 Identity Matrix:\n",
      " [[1. 0. 0.]\n",
      " [0. 1. 0.]\n",
      " [0. 0. 1.]]\n"
     ]
    }
   ],
   "source": [
    "identity = np.eye(3)\n",
    "print(\"3x3 Identity Matrix:\\n\", identity)"
   ]
  },
  {
   "cell_type": "code",
   "execution_count": 14,
   "id": "36e8f7f3",
   "metadata": {},
   "outputs": [],
   "source": [
    "# 7. Matrix multiplication"
   ]
  },
  {
   "cell_type": "code",
   "execution_count": 15,
   "id": "70531db7",
   "metadata": {},
   "outputs": [
    {
     "name": "stdout",
     "output_type": "stream",
     "text": [
      "Matrix Multiplication:\n",
      " [[19 22]\n",
      " [43 50]]\n"
     ]
    }
   ],
   "source": [
    "A = np.array([[1, 2], [3, 4]])\n",
    "B = np.array([[5, 6], [7, 8]])\n",
    "\n",
    "product = np.dot(A, B)\n",
    "print(\"Matrix Multiplication:\\n\", product)"
   ]
  },
  {
   "cell_type": "code",
   "execution_count": 16,
   "id": "4ed8dffc",
   "metadata": {},
   "outputs": [],
   "source": [
    "# 8. Dot and Cross product"
   ]
  },
  {
   "cell_type": "code",
   "execution_count": 17,
   "id": "3b85d0c6",
   "metadata": {},
   "outputs": [
    {
     "name": "stdout",
     "output_type": "stream",
     "text": [
      "Dot Product: 32\n",
      "Cross Product: [-3  6 -3]\n"
     ]
    }
   ],
   "source": [
    "v1 = np.array([1, 2, 3])\n",
    "v2 = np.array([4, 5, 6])\n",
    "\n",
    "dot_product = np.dot(v1, v2)\n",
    "cross_product = np.cross(v1, v2)\n",
    "\n",
    "print(\"Dot Product:\", dot_product)\n",
    "print(\"Cross Product:\", cross_product)"
   ]
  },
  {
   "cell_type": "code",
   "execution_count": 18,
   "id": "8e70b23c",
   "metadata": {},
   "outputs": [],
   "source": [
    "# 9. Find unique elements in an array"
   ]
  },
  {
   "cell_type": "code",
   "execution_count": 19,
   "id": "95ce5eaf",
   "metadata": {},
   "outputs": [
    {
     "name": "stdout",
     "output_type": "stream",
     "text": [
      "Array: [5 2 7 7 7 2 9 0 1 0 7 6 3 0 0 4 0 5 8 7]\n",
      "Unique elements: [0 1 2 3 4 5 6 7 8 9]\n"
     ]
    }
   ],
   "source": [
    "arr = np.random.randint(0, 10, size=20)\n",
    "unique_elements = np.unique(arr)\n",
    "\n",
    "print(\"Array:\", arr)\n",
    "print(\"Unique elements:\", unique_elements)"
   ]
  },
  {
   "cell_type": "code",
   "execution_count": 20,
   "id": "2d7c77a6",
   "metadata": {},
   "outputs": [],
   "source": [
    "# 10. Function to return inverse of a matrix"
   ]
  },
  {
   "cell_type": "code",
   "execution_count": 21,
   "id": "6cb1f881",
   "metadata": {},
   "outputs": [
    {
     "name": "stdout",
     "output_type": "stream",
     "text": [
      "Inverse of matrix:\n",
      " [[ 0.6 -0.7]\n",
      " [-0.2  0.4]]\n"
     ]
    }
   ],
   "source": [
    "def inverse_matrix(mat):\n",
    "    try:\n",
    "        return np.linalg.inv(mat)\n",
    "    except np.linalg.LinAlgError:\n",
    "        return \"Matrix is singular and not invertible.\"\n",
    "\n",
    "matrix = np.array([[4, 7], [2, 6]])\n",
    "print(\"Inverse of matrix:\\n\", inverse_matrix(matrix))"
   ]
  }
 ],
 "metadata": {
  "kernelspec": {
   "display_name": "Python 3 (ipykernel)",
   "language": "python",
   "name": "python3"
  },
  "language_info": {
   "codemirror_mode": {
    "name": "ipython",
    "version": 3
   },
   "file_extension": ".py",
   "mimetype": "text/x-python",
   "name": "python",
   "nbconvert_exporter": "python",
   "pygments_lexer": "ipython3",
   "version": "3.11.5"
  }
 },
 "nbformat": 4,
 "nbformat_minor": 5
}
