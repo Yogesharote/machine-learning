{
 "cells": [
  {
   "cell_type": "code",
   "execution_count": 1,
   "id": "62a291e3",
   "metadata": {},
   "outputs": [],
   "source": [
    "#1.Create a 3x3 matrix and add a 1x3 array to each row using broadcasting"
   ]
  },
  {
   "cell_type": "code",
   "execution_count": 2,
   "id": "a960545c",
   "metadata": {},
   "outputs": [],
   "source": [
    "import numpy as np"
   ]
  },
  {
   "cell_type": "code",
   "execution_count": 3,
   "id": "a857cdb1",
   "metadata": {},
   "outputs": [
    {
     "name": "stdout",
     "output_type": "stream",
     "text": [
      "[[11 22 33]\n",
      " [14 25 36]\n",
      " [17 28 39]]\n"
     ]
    }
   ],
   "source": [
    "matrix = np.array([[1, 2, 3],\n",
    "                   [4, 5, 6],\n",
    "                   [7, 8, 9]])\n",
    "row_array = np.array([10, 20, 30])\n",
    "\n",
    "result = matrix + row_array\n",
    "print(result)"
   ]
  },
  {
   "cell_type": "code",
   "execution_count": 4,
   "id": "f5aeca6e",
   "metadata": {},
   "outputs": [],
   "source": [
    "#2.Multiply a 1D array of 5 elements by a scalar value using broadcasting"
   ]
  },
  {
   "cell_type": "code",
   "execution_count": 5,
   "id": "0ae4c4b2",
   "metadata": {},
   "outputs": [
    {
     "name": "stdout",
     "output_type": "stream",
     "text": [
      "[10 20 30 40 50]\n"
     ]
    }
   ],
   "source": [
    "array = np.array([1, 2, 3, 4, 5])\n",
    "scalar = 10\n",
    "\n",
    "result = array * scalar\n",
    "print(result)"
   ]
  },
  {
   "cell_type": "code",
   "execution_count": 6,
   "id": "01c3e36a",
   "metadata": {},
   "outputs": [],
   "source": [
    "#3.Subtract a 3x1 column vector from a 3x3 matrix using broadcasting"
   ]
  },
  {
   "cell_type": "code",
   "execution_count": 7,
   "id": "cca7c69c",
   "metadata": {},
   "outputs": [
    {
     "name": "stdout",
     "output_type": "stream",
     "text": [
      "[[ 9 19 29]\n",
      " [38 48 58]\n",
      " [67 77 87]]\n"
     ]
    }
   ],
   "source": [
    "matrix = np.array([[10, 20, 30],\n",
    "                   [40, 50, 60],\n",
    "                   [70, 80, 90]])\n",
    "column_vector = np.array([[1],\n",
    "                          [2],\n",
    "                          [3]])\n",
    "\n",
    "result = matrix - column_vector\n",
    "print(result)"
   ]
  },
  {
   "cell_type": "code",
   "execution_count": 8,
   "id": "46e49ff5",
   "metadata": {},
   "outputs": [],
   "source": [
    "#4. Add a scalar to a 3D array and demonstrate how broadcasting works across all dimensions"
   ]
  },
  {
   "cell_type": "code",
   "execution_count": 9,
   "id": "d0b05ab0",
   "metadata": {},
   "outputs": [
    {
     "name": "stdout",
     "output_type": "stream",
     "text": [
      "[[[ 6  7]\n",
      "  [ 8  9]]\n",
      "\n",
      " [[10 11]\n",
      "  [12 13]]]\n"
     ]
    }
   ],
   "source": [
    "array_3d = np.array([[[1, 2],\n",
    "                      [3, 4]],\n",
    "                     \n",
    "                     [[5, 6],\n",
    "                      [7, 8]]])\n",
    "\n",
    "scalar = 5\n",
    "result = array_3d + scalar\n",
    "print(result)"
   ]
  },
  {
   "cell_type": "code",
   "execution_count": 10,
   "id": "3c9b8103",
   "metadata": {},
   "outputs": [],
   "source": [
    "#5.Create two arrays of shapes (4, 1) and (1, 5) and add them using broadcasting"
   ]
  },
  {
   "cell_type": "code",
   "execution_count": 11,
   "id": "16691960",
   "metadata": {},
   "outputs": [
    {
     "name": "stdout",
     "output_type": "stream",
     "text": [
      "[[11 21 31 41 51]\n",
      " [12 22 32 42 52]\n",
      " [13 23 33 43 53]\n",
      " [14 24 34 44 54]]\n"
     ]
    }
   ],
   "source": [
    "a = np.array([[1], [2], [3], [4]])    \n",
    "b = np.array([[10, 20, 30, 40, 50]])   \n",
    "\n",
    "result = a + b\n",
    "print(result)"
   ]
  },
  {
   "cell_type": "code",
   "execution_count": null,
   "id": "4385694c",
   "metadata": {},
   "outputs": [],
   "source": []
  }
 ],
 "metadata": {
  "kernelspec": {
   "display_name": "Python 3 (ipykernel)",
   "language": "python",
   "name": "python3"
  },
  "language_info": {
   "codemirror_mode": {
    "name": "ipython",
    "version": 3
   },
   "file_extension": ".py",
   "mimetype": "text/x-python",
   "name": "python",
   "nbconvert_exporter": "python",
   "pygments_lexer": "ipython3",
   "version": "3.11.5"
  }
 },
 "nbformat": 4,
 "nbformat_minor": 5
}
