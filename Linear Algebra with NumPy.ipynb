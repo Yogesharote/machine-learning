{
 "cells": [
  {
   "cell_type": "code",
   "execution_count": 1,
   "id": "f138ceb7",
   "metadata": {},
   "outputs": [],
   "source": [
    "# Solve a system of linear equations using NumPy, store result in a DataFrame"
   ]
  },
  {
   "cell_type": "code",
   "execution_count": 2,
   "id": "887e0b53",
   "metadata": {},
   "outputs": [],
   "source": [
    "import numpy as np\n",
    "import pandas as pd"
   ]
  },
  {
   "cell_type": "code",
   "execution_count": 3,
   "id": "a88ed0a5",
   "metadata": {},
   "outputs": [
    {
     "name": "stdout",
     "output_type": "stream",
     "text": [
      "   Value\n",
      "x    3.0\n",
      "y    2.0\n"
     ]
    }
   ],
   "source": [
    "A = np.array([[2, 1],\n",
    "              [3, 2]])\n",
    "B = np.array([8, 13])\n",
    "\n",
    "solution = np.linalg.solve(A, B)\n",
    "\n",
    "df_solution = pd.DataFrame(solution, index=['x', 'y'], columns=['Value'])\n",
    "\n",
    "print(df_solution)"
   ]
  },
  {
   "cell_type": "code",
   "execution_count": 4,
   "id": "2b9ae3c7",
   "metadata": {},
   "outputs": [],
   "source": [
    "#  Compute the dot product of two DataFrame columns using NumPy"
   ]
  },
  {
   "cell_type": "code",
   "execution_count": 5,
   "id": "0fe9d721",
   "metadata": {},
   "outputs": [
    {
     "name": "stdout",
     "output_type": "stream",
     "text": [
      "Dot product of A and B: 32\n"
     ]
    }
   ],
   "source": [
    "df = pd.DataFrame({\n",
    "    'A': [1, 2, 3],\n",
    "    'B': [4, 5, 6]\n",
    "})\n",
    "\n",
    "dot_product = np.dot(df['A'], df['B'])\n",
    "\n",
    "print(\"Dot product of A and B:\", dot_product)"
   ]
  },
  {
   "cell_type": "code",
   "execution_count": 6,
   "id": "3f5a901a",
   "metadata": {},
   "outputs": [],
   "source": [
    "# Matrix multiplication on two DataFrames, store result in new DataFrame"
   ]
  },
  {
   "cell_type": "code",
   "execution_count": 7,
   "id": "41ce1a74",
   "metadata": {},
   "outputs": [
    {
     "name": "stdout",
     "output_type": "stream",
     "text": [
      "Matrix Product:\n",
      "     0   1\n",
      "0  19  22\n",
      "1  43  50\n"
     ]
    }
   ],
   "source": [
    "df1 = pd.DataFrame([[1, 2], [3, 4]])\n",
    "df2 = pd.DataFrame([[5, 6], [7, 8]])\n",
    "\n",
    "product = df1 @ df2 \n",
    "\n",
    "df_product = pd.DataFrame(product)\n",
    "\n",
    "print(\"Matrix Product:\\n\", df_product)"
   ]
  }
 ],
 "metadata": {
  "kernelspec": {
   "display_name": "Python 3 (ipykernel)",
   "language": "python",
   "name": "python3"
  },
  "language_info": {
   "codemirror_mode": {
    "name": "ipython",
    "version": 3
   },
   "file_extension": ".py",
   "mimetype": "text/x-python",
   "name": "python",
   "nbconvert_exporter": "python",
   "pygments_lexer": "ipython3",
   "version": "3.11.5"
  }
 },
 "nbformat": 4,
 "nbformat_minor": 5
}
