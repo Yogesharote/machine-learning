{
 "cells": [
  {
   "cell_type": "code",
   "execution_count": 1,
   "id": "30a3000b",
   "metadata": {},
   "outputs": [],
   "source": [
    "# Use NumPy’s reshape on data extracted from a DataFrame"
   ]
  },
  {
   "cell_type": "code",
   "execution_count": 2,
   "id": "7416e7ab",
   "metadata": {},
   "outputs": [],
   "source": [
    "import pandas as pd\n",
    "import numpy as np"
   ]
  },
  {
   "cell_type": "code",
   "execution_count": 3,
   "id": "d63f1605",
   "metadata": {},
   "outputs": [
    {
     "name": "stdout",
     "output_type": "stream",
     "text": [
      "Reshaped Array:\n",
      " [[10 20 30]\n",
      " [40 50 60]]\n",
      "Row-wise mean: [20. 50.]\n"
     ]
    }
   ],
   "source": [
    "df = pd.DataFrame({'Scores': [10, 20, 30, 40, 50, 60]})\n",
    "\n",
    "reshaped = df['Scores'].to_numpy().reshape(2, 3)\n",
    "\n",
    "print(\"Reshaped Array:\\n\", reshaped)\n",
    "\n",
    "row_mean = reshaped.mean(axis=1)\n",
    "print(\"Row-wise mean:\", row_mean)"
   ]
  },
  {
   "cell_type": "code",
   "execution_count": 4,
   "id": "2a18b882",
   "metadata": {},
   "outputs": [],
   "source": [
    "# Stack two DataFrames vertically and analyze using NumPy"
   ]
  },
  {
   "cell_type": "code",
   "execution_count": 5,
   "id": "5b205ac7",
   "metadata": {},
   "outputs": [
    {
     "name": "stdout",
     "output_type": "stream",
     "text": [
      "Column-wise mean: [3.5 5.5]\n"
     ]
    }
   ],
   "source": [
    "df1 = pd.DataFrame({'A': [1, 2], 'B': [3, 4]})\n",
    "df2 = pd.DataFrame({'A': [5, 6], 'B': [7, 8]})\n",
    "\n",
    "df_combined = pd.concat([df1, df2], axis=0, ignore_index=True)\n",
    "\n",
    "arr = df_combined.to_numpy()\n",
    "\n",
    "col_mean = np.mean(arr, axis=0)\n",
    "print(\"Column-wise mean:\", col_mean)"
   ]
  },
  {
   "cell_type": "code",
   "execution_count": 6,
   "id": "aa152694",
   "metadata": {},
   "outputs": [],
   "source": [
    "#  Create a 3D NumPy array, convert to MultiIndex DataFrame, group and analyze"
   ]
  },
  {
   "cell_type": "code",
   "execution_count": 7,
   "id": "32f6bfa9",
   "metadata": {},
   "outputs": [
    {
     "name": "stdout",
     "output_type": "stream",
     "text": [
      "MultiIndex DataFrame:\n",
      "            A  B  C  D\n",
      "Block Row            \n",
      "0     0    6  3  2  9\n",
      "      1    1  8  5  7\n",
      "      2    1  4  9  3\n",
      "1     0    6  1  9  8\n",
      "      1    4  4  5  3\n",
      "      2    8  8  7  7\n",
      "\n",
      "Grouped Mean by Block:\n",
      "               A         B         C         D\n",
      "Block                                        \n",
      "0      2.666667  5.000000  5.333333  6.333333\n",
      "1      6.000000  4.333333  7.000000  6.000000\n"
     ]
    }
   ],
   "source": [
    "array_3d = np.random.randint(1, 10, size=(2, 3, 4))\n",
    "\n",
    "df_multi = pd.DataFrame(\n",
    "    array_3d.reshape(-1, 4), \n",
    "    index=pd.MultiIndex.from_product([[0, 1], [0, 1, 2]], names=['Block', 'Row']),\n",
    "    columns=['A', 'B', 'C', 'D']\n",
    ")\n",
    "\n",
    "print(\"MultiIndex DataFrame:\\n\", df_multi)\n",
    "\n",
    "grouped_mean = df_multi.groupby('Block').mean()\n",
    "\n",
    "print(\"\\nGrouped Mean by Block:\\n\", grouped_mean)"
   ]
  }
 ],
 "metadata": {
  "kernelspec": {
   "display_name": "Python 3 (ipykernel)",
   "language": "python",
   "name": "python3"
  },
  "language_info": {
   "codemirror_mode": {
    "name": "ipython",
    "version": 3
   },
   "file_extension": ".py",
   "mimetype": "text/x-python",
   "name": "python",
   "nbconvert_exporter": "python",
   "pygments_lexer": "ipython3",
   "version": "3.11.5"
  }
 },
 "nbformat": 4,
 "nbformat_minor": 5
}
