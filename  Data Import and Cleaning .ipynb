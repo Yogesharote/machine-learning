{
 "cells": [
  {
   "cell_type": "code",
   "execution_count": 1,
   "id": "311bac90",
   "metadata": {},
   "outputs": [],
   "source": [
    "#  Import a CSV file into a Pandas DataFrame. Identify and drop rows with missing values. "
   ]
  },
  {
   "cell_type": "code",
   "execution_count": 2,
   "id": "813d3004",
   "metadata": {},
   "outputs": [],
   "source": [
    "import pandas as pd"
   ]
  },
  {
   "cell_type": "code",
   "execution_count": 3,
   "id": "ef3d4a57",
   "metadata": {},
   "outputs": [
    {
     "data": {
      "text/html": [
       "<div>\n",
       "<style scoped>\n",
       "    .dataframe tbody tr th:only-of-type {\n",
       "        vertical-align: middle;\n",
       "    }\n",
       "\n",
       "    .dataframe tbody tr th {\n",
       "        vertical-align: top;\n",
       "    }\n",
       "\n",
       "    .dataframe thead th {\n",
       "        text-align: right;\n",
       "    }\n",
       "</style>\n",
       "<table border=\"1\" class=\"dataframe\">\n",
       "  <thead>\n",
       "    <tr style=\"text-align: right;\">\n",
       "      <th></th>\n",
       "      <th>Unnamed: 0</th>\n",
       "      <th>Name</th>\n",
       "      <th>Label</th>\n",
       "      <th>Location</th>\n",
       "      <th>Price</th>\n",
       "      <th>Kms_driven</th>\n",
       "      <th>Fuel_type</th>\n",
       "      <th>Owner</th>\n",
       "      <th>Year</th>\n",
       "      <th>Company</th>\n",
       "    </tr>\n",
       "  </thead>\n",
       "  <tbody>\n",
       "    <tr>\n",
       "      <th>0</th>\n",
       "      <td>0</td>\n",
       "      <td>Ford Figo Duratec Petrol EXI 1.2 - 2015</td>\n",
       "      <td>PLATINUM</td>\n",
       "      <td>Bangalore</td>\n",
       "      <td>₹3,80,000</td>\n",
       "      <td>35,056 kms</td>\n",
       "      <td>Petrol</td>\n",
       "      <td>NaN</td>\n",
       "      <td>2015</td>\n",
       "      <td>Ford</td>\n",
       "    </tr>\n",
       "    <tr>\n",
       "      <th>1</th>\n",
       "      <td>1</td>\n",
       "      <td>Maruti Suzuki Wagon R VXI BS IV - 2016</td>\n",
       "      <td>PLATINUM</td>\n",
       "      <td>Bangalore</td>\n",
       "      <td>₹4,65,000</td>\n",
       "      <td>44,000 kms</td>\n",
       "      <td>Petrol</td>\n",
       "      <td>NaN</td>\n",
       "      <td>2016</td>\n",
       "      <td>Maruti</td>\n",
       "    </tr>\n",
       "    <tr>\n",
       "      <th>2</th>\n",
       "      <td>2</td>\n",
       "      <td>Hyundai Creta 1.6 SX PLUS AUTO PETROL - 2018</td>\n",
       "      <td>PLATINUM</td>\n",
       "      <td>Bangalore</td>\n",
       "      <td>₹13,50,000</td>\n",
       "      <td>42,917 kms</td>\n",
       "      <td>Petrol</td>\n",
       "      <td>NaN</td>\n",
       "      <td>2018</td>\n",
       "      <td>Hyundai</td>\n",
       "    </tr>\n",
       "    <tr>\n",
       "      <th>3</th>\n",
       "      <td>3</td>\n",
       "      <td>Hyundai Venue - 2019</td>\n",
       "      <td>PLATINUM</td>\n",
       "      <td>Chennai</td>\n",
       "      <td>₹10,19,699</td>\n",
       "      <td>16,112 kms</td>\n",
       "      <td>Petrol</td>\n",
       "      <td>2nd Owner</td>\n",
       "      <td>2019</td>\n",
       "      <td>Hyundai</td>\n",
       "    </tr>\n",
       "    <tr>\n",
       "      <th>4</th>\n",
       "      <td>4</td>\n",
       "      <td>Honda Jazz - 2017</td>\n",
       "      <td>PLATINUM</td>\n",
       "      <td>Pune</td>\n",
       "      <td>₹7,13,499</td>\n",
       "      <td>30,988 kms</td>\n",
       "      <td>Petrol</td>\n",
       "      <td>2nd Owner</td>\n",
       "      <td>2017</td>\n",
       "      <td>Honda</td>\n",
       "    </tr>\n",
       "    <tr>\n",
       "      <th>...</th>\n",
       "      <td>...</td>\n",
       "      <td>...</td>\n",
       "      <td>...</td>\n",
       "      <td>...</td>\n",
       "      <td>...</td>\n",
       "      <td>...</td>\n",
       "      <td>...</td>\n",
       "      <td>...</td>\n",
       "      <td>...</td>\n",
       "      <td>...</td>\n",
       "    </tr>\n",
       "    <tr>\n",
       "      <th>1027</th>\n",
       "      <td>1027</td>\n",
       "      <td>Hyundai i10 Magna 1.2 - 2014</td>\n",
       "      <td>GOLD</td>\n",
       "      <td>Bangalore</td>\n",
       "      <td>₹2,29,000</td>\n",
       "      <td>65,000 kms</td>\n",
       "      <td>Petrol</td>\n",
       "      <td>1st Owner</td>\n",
       "      <td>2014</td>\n",
       "      <td>Hyundai</td>\n",
       "    </tr>\n",
       "    <tr>\n",
       "      <th>1028</th>\n",
       "      <td>1028</td>\n",
       "      <td>Maruti Suzuki Alto K10 LXi CNG - 2014</td>\n",
       "      <td>GOLD</td>\n",
       "      <td>Bangalore</td>\n",
       "      <td>₹2,75,000</td>\n",
       "      <td>60,000 kms</td>\n",
       "      <td>Petrol</td>\n",
       "      <td>NaN</td>\n",
       "      <td>2014</td>\n",
       "      <td>Maruti</td>\n",
       "    </tr>\n",
       "    <tr>\n",
       "      <th>1029</th>\n",
       "      <td>1029</td>\n",
       "      <td>Jeep Compass Limited 2.0 Diesel - 2017</td>\n",
       "      <td>GOLD</td>\n",
       "      <td>Mahasamund</td>\n",
       "      <td>₹17,50,000</td>\n",
       "      <td>31,000 kms</td>\n",
       "      <td>Diesel</td>\n",
       "      <td>1st Owner</td>\n",
       "      <td>2017</td>\n",
       "      <td>Jeep</td>\n",
       "    </tr>\n",
       "    <tr>\n",
       "      <th>1030</th>\n",
       "      <td>1030</td>\n",
       "      <td>Jeep Compass Limited 2.0 Diesel - 2017</td>\n",
       "      <td>GOLD</td>\n",
       "      <td>Bilaspur</td>\n",
       "      <td>₹17,50,000</td>\n",
       "      <td>31,000 kms</td>\n",
       "      <td>Diesel</td>\n",
       "      <td>1st Owner</td>\n",
       "      <td>2017</td>\n",
       "      <td>Jeep</td>\n",
       "    </tr>\n",
       "    <tr>\n",
       "      <th>1031</th>\n",
       "      <td>1031</td>\n",
       "      <td>Jeep Compass Limited 2.0 Diesel - 2017</td>\n",
       "      <td>GOLD</td>\n",
       "      <td>Jagdalpur</td>\n",
       "      <td>₹17,50,000</td>\n",
       "      <td>31,000 kms</td>\n",
       "      <td>Diesel</td>\n",
       "      <td>1st Owner</td>\n",
       "      <td>2017</td>\n",
       "      <td>Jeep</td>\n",
       "    </tr>\n",
       "  </tbody>\n",
       "</table>\n",
       "<p>1032 rows × 10 columns</p>\n",
       "</div>"
      ],
      "text/plain": [
       "      Unnamed: 0                                          Name     Label  \\\n",
       "0              0       Ford Figo Duratec Petrol EXI 1.2 - 2015  PLATINUM   \n",
       "1              1        Maruti Suzuki Wagon R VXI BS IV - 2016  PLATINUM   \n",
       "2              2  Hyundai Creta 1.6 SX PLUS AUTO PETROL - 2018  PLATINUM   \n",
       "3              3                          Hyundai Venue - 2019  PLATINUM   \n",
       "4              4                             Honda Jazz - 2017  PLATINUM   \n",
       "...          ...                                           ...       ...   \n",
       "1027        1027                  Hyundai i10 Magna 1.2 - 2014      GOLD   \n",
       "1028        1028         Maruti Suzuki Alto K10 LXi CNG - 2014      GOLD   \n",
       "1029        1029        Jeep Compass Limited 2.0 Diesel - 2017      GOLD   \n",
       "1030        1030        Jeep Compass Limited 2.0 Diesel - 2017      GOLD   \n",
       "1031        1031        Jeep Compass Limited 2.0 Diesel - 2017      GOLD   \n",
       "\n",
       "        Location       Price   Kms_driven Fuel_type       Owner  Year  Company  \n",
       "0      Bangalore   ₹3,80,000  35,056 kms     Petrol         NaN  2015     Ford  \n",
       "1      Bangalore   ₹4,65,000  44,000 kms     Petrol         NaN  2016   Maruti  \n",
       "2      Bangalore  ₹13,50,000  42,917 kms     Petrol         NaN  2018  Hyundai  \n",
       "3        Chennai  ₹10,19,699  16,112 kms    Petrol    2nd Owner  2019  Hyundai  \n",
       "4           Pune   ₹7,13,499  30,988 kms    Petrol    2nd Owner  2017    Honda  \n",
       "...          ...         ...          ...       ...         ...   ...      ...  \n",
       "1027   Bangalore   ₹2,29,000  65,000 kms    Petrol    1st Owner  2014  Hyundai  \n",
       "1028   Bangalore   ₹2,75,000  60,000 kms     Petrol         NaN  2014   Maruti  \n",
       "1029  Mahasamund  ₹17,50,000  31,000 kms    Diesel    1st Owner  2017     Jeep  \n",
       "1030    Bilaspur  ₹17,50,000  31,000 kms    Diesel    1st Owner  2017     Jeep  \n",
       "1031   Jagdalpur  ₹17,50,000  31,000 kms    Diesel    1st Owner  2017     Jeep  \n",
       "\n",
       "[1032 rows x 10 columns]"
      ]
     },
     "execution_count": 3,
     "metadata": {},
     "output_type": "execute_result"
    }
   ],
   "source": [
    "df = pd.read_csv(r\"C:\\Users\\PCS\\Downloads\\Jala Acadamy Data Science\\Quikr_car.csv\")  \n",
    "\n",
    "df"
   ]
  },
  {
   "cell_type": "code",
   "execution_count": 4,
   "id": "116a10eb",
   "metadata": {},
   "outputs": [
    {
     "name": "stdout",
     "output_type": "stream",
     "text": [
      "Original DataFrame shape: (1032, 10)\n"
     ]
    }
   ],
   "source": [
    "print(\"Original DataFrame shape:\", df.shape)"
   ]
  },
  {
   "cell_type": "code",
   "execution_count": 5,
   "id": "d602d458",
   "metadata": {},
   "outputs": [
    {
     "name": "stdout",
     "output_type": "stream",
     "text": [
      "DataFrame shape after dropping missing values: (739, 10)\n"
     ]
    }
   ],
   "source": [
    "df_cleaned = df.dropna()\n",
    "\n",
    "print(\"DataFrame shape after dropping missing values:\", df_cleaned.shape)"
   ]
  },
  {
   "cell_type": "code",
   "execution_count": 6,
   "id": "fde8b27e",
   "metadata": {},
   "outputs": [],
   "source": [
    "#  Replace missing numerical values with the mean of the column"
   ]
  },
  {
   "cell_type": "code",
   "execution_count": 7,
   "id": "d6841a91",
   "metadata": {},
   "outputs": [],
   "source": [
    "df_filled_mean = df.copy()\n",
    "df_filled_mean.fillna(df_filled_mean.mean(numeric_only=True), inplace=True)"
   ]
  },
  {
   "cell_type": "code",
   "execution_count": 8,
   "id": "39368684",
   "metadata": {},
   "outputs": [],
   "source": [
    "# Replace missing categorical values with the mode of the column"
   ]
  },
  {
   "cell_type": "code",
   "execution_count": 9,
   "id": "1d1b3608",
   "metadata": {},
   "outputs": [],
   "source": [
    "for column in df.select_dtypes(include='object').columns:\n",
    "    mode_value = df[column].mode()[0] \n",
    "    df_filled_mean[column].fillna(mode_value, inplace=True)"
   ]
  }
 ],
 "metadata": {
  "kernelspec": {
   "display_name": "Python 3 (ipykernel)",
   "language": "python",
   "name": "python3"
  },
  "language_info": {
   "codemirror_mode": {
    "name": "ipython",
    "version": 3
   },
   "file_extension": ".py",
   "mimetype": "text/x-python",
   "name": "python",
   "nbconvert_exporter": "python",
   "pygments_lexer": "ipython3",
   "version": "3.11.5"
  }
 },
 "nbformat": 4,
 "nbformat_minor": 5
}
