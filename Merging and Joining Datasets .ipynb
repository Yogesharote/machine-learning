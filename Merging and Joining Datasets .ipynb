{
 "cells": [
  {
   "cell_type": "code",
   "execution_count": 1,
   "id": "ad0267e1",
   "metadata": {},
   "outputs": [],
   "source": [
    "#  Merge two DataFrames based on a common key and fill missing values"
   ]
  },
  {
   "cell_type": "code",
   "execution_count": 2,
   "id": "af4810b0",
   "metadata": {},
   "outputs": [],
   "source": [
    "import pandas as pd"
   ]
  },
  {
   "cell_type": "code",
   "execution_count": 3,
   "id": "b5f794a7",
   "metadata": {},
   "outputs": [
    {
     "name": "stdout",
     "output_type": "stream",
     "text": [
      "   ID     Name  Score\n",
      "0   1    Alice   90.0\n",
      "1   2      Bob   85.0\n",
      "2   3  Charlie    0.0\n",
      "3   4      N/A   88.0\n"
     ]
    }
   ],
   "source": [
    "df1 = pd.DataFrame({\n",
    "    'ID': [1, 2, 3],\n",
    "    'Name': ['Alice', 'Bob', 'Charlie']\n",
    "})\n",
    "\n",
    "df2 = pd.DataFrame({\n",
    "    'ID': [1, 2, 4],\n",
    "    'Score': [90, 85, 88]\n",
    "})\n",
    "\n",
    "merged_df = pd.merge(df1, df2, on='ID', how='outer')\n",
    "\n",
    "merged_df_filled = merged_df.fillna({'Score': 0, 'Name': 'N/A'})\n",
    "\n",
    "print(merged_df_filled)"
   ]
  },
  {
   "cell_type": "code",
   "execution_count": 4,
   "id": "aac1cbb1",
   "metadata": {},
   "outputs": [],
   "source": [
    "# Perform a left join on two DataFrames with different keys and handle missing data"
   ]
  },
  {
   "cell_type": "code",
   "execution_count": 5,
   "id": "847d92db",
   "metadata": {},
   "outputs": [
    {
     "name": "stdout",
     "output_type": "stream",
     "text": [
      "   emp_id Employee     id   Salary\n",
      "0     101      Tom  101.0  50000.0\n",
      "1     102    Jerry    NaN      0.0\n",
      "2     103    Spike    NaN      0.0\n"
     ]
    }
   ],
   "source": [
    "df_left = pd.DataFrame({\n",
    "    'emp_id': [101, 102, 103],\n",
    "    'Employee': ['Tom', 'Jerry', 'Spike']\n",
    "})\n",
    "\n",
    "df_right = pd.DataFrame({\n",
    "    'id': [101, 104],\n",
    "    'Salary': [50000, 60000]\n",
    "})\n",
    "\n",
    "left_joined = pd.merge(df_left, df_right, how='left', left_on='emp_id', right_on='id')\n",
    "\n",
    "left_joined.fillna({'Salary': 0}, inplace=True)\n",
    "\n",
    "print(left_joined)"
   ]
  },
  {
   "cell_type": "code",
   "execution_count": 6,
   "id": "bcaac1d7",
   "metadata": {},
   "outputs": [],
   "source": [
    "#  Concatenate two DataFrames along columns and handle duplicate column names"
   ]
  },
  {
   "cell_type": "code",
   "execution_count": 7,
   "id": "dcdface3",
   "metadata": {},
   "outputs": [
    {
     "name": "stdout",
     "output_type": "stream",
     "text": [
      "   A  B  B_2  C\n",
      "0  1  3    5  7\n",
      "1  2  4    6  8\n"
     ]
    }
   ],
   "source": [
    "df_a = pd.DataFrame({\n",
    "    'A': [1, 2],\n",
    "    'B': [3, 4]\n",
    "})\n",
    "\n",
    "df_b = pd.DataFrame({\n",
    "    'B': [5, 6],\n",
    "    'C': [7, 8]\n",
    "})\n",
    "\n",
    "df_b_renamed = df_b.rename(columns=lambda x: f\"{x}_2\" if x in df_a.columns else x)\n",
    "\n",
    "concatenated_df = pd.concat([df_a, df_b_renamed], axis=1)\n",
    "\n",
    "print(concatenated_df)"
   ]
  }
 ],
 "metadata": {
  "kernelspec": {
   "display_name": "Python 3 (ipykernel)",
   "language": "python",
   "name": "python3"
  },
  "language_info": {
   "codemirror_mode": {
    "name": "ipython",
    "version": 3
   },
   "file_extension": ".py",
   "mimetype": "text/x-python",
   "name": "python",
   "nbconvert_exporter": "python",
   "pygments_lexer": "ipython3",
   "version": "3.11.5"
  }
 },
 "nbformat": 4,
 "nbformat_minor": 5
}
