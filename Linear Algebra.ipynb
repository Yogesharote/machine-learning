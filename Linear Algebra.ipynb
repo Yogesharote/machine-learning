{
 "cells": [
  {
   "cell_type": "code",
   "execution_count": 1,
   "id": "03799ef6",
   "metadata": {},
   "outputs": [],
   "source": [
    "#1.Create a 3x3 matrix and find its determinant"
   ]
  },
  {
   "cell_type": "code",
   "execution_count": 2,
   "id": "9b0f23c7",
   "metadata": {},
   "outputs": [],
   "source": [
    "import numpy as np"
   ]
  },
  {
   "cell_type": "code",
   "execution_count": 3,
   "id": "e334fba9",
   "metadata": {},
   "outputs": [
    {
     "name": "stdout",
     "output_type": "stream",
     "text": [
      "Matrix A:\n",
      " [[4 2 1]\n",
      " [3 5 7]\n",
      " [1 1 2]]\n",
      "Determinant of A: 12.000000000000005\n"
     ]
    }
   ],
   "source": [
    "A = np.array([[4, 2, 1],\n",
    "              [3, 5, 7],\n",
    "              [1, 1, 2]])\n",
    "\n",
    "det = np.linalg.det(A)\n",
    "\n",
    "print(\"Matrix A:\\n\", A)\n",
    "print(\"Determinant of A:\", det)"
   ]
  },
  {
   "cell_type": "code",
   "execution_count": 4,
   "id": "3960a836",
   "metadata": {},
   "outputs": [],
   "source": [
    "#2.Inverse of a 2x2 matrix and verify with identity matrix"
   ]
  },
  {
   "cell_type": "code",
   "execution_count": 5,
   "id": "31123b9f",
   "metadata": {},
   "outputs": [
    {
     "name": "stdout",
     "output_type": "stream",
     "text": [
      "Matrix B:\n",
      " [[4 7]\n",
      " [2 6]]\n",
      "Inverse of B:\n",
      " [[ 0.6 -0.7]\n",
      " [-0.2  0.4]]\n",
      "Product of B and B_inv (should be identity):\n",
      " [[ 1.00000000e+00  0.00000000e+00]\n",
      " [-2.22044605e-16  1.00000000e+00]]\n"
     ]
    }
   ],
   "source": [
    "B = np.array([[4, 7],\n",
    "              [2, 6]])\n",
    "\n",
    "B_inv = np.linalg.inv(B)\n",
    "\n",
    "identity = np.dot(B, B_inv)\n",
    "\n",
    "print(\"Matrix B:\\n\", B)\n",
    "print(\"Inverse of B:\\n\", B_inv)\n",
    "print(\"Product of B and B_inv (should be identity):\\n\", identity)"
   ]
  },
  {
   "cell_type": "code",
   "execution_count": 6,
   "id": "2b3eccea",
   "metadata": {},
   "outputs": [],
   "source": [
    "#3.Eigenvalues and eigenvectors of a 2x2 matrix"
   ]
  },
  {
   "cell_type": "code",
   "execution_count": 7,
   "id": "565604fb",
   "metadata": {},
   "outputs": [
    {
     "name": "stdout",
     "output_type": "stream",
     "text": [
      "Matrix C:\n",
      " [[2 1]\n",
      " [1 2]]\n",
      "Eigenvalues: [3. 1.]\n",
      "Eigenvectors:\n",
      " [[ 0.70710678 -0.70710678]\n",
      " [ 0.70710678  0.70710678]]\n"
     ]
    }
   ],
   "source": [
    "C = np.array([[2, 1],\n",
    "              [1, 2]])\n",
    "\n",
    "\n",
    "eigenvalues, eigenvectors = np.linalg.eig(C)\n",
    "\n",
    "print(\"Matrix C:\\n\", C)\n",
    "print(\"Eigenvalues:\", eigenvalues)\n",
    "print(\"Eigenvectors:\\n\", eigenvectors)"
   ]
  },
  {
   "cell_type": "code",
   "execution_count": 8,
   "id": "56538d14",
   "metadata": {},
   "outputs": [],
   "source": [
    "#4.Solve system of equations: 2x + 3y = 5 and 4x + 6y = 10"
   ]
  },
  {
   "cell_type": "code",
   "execution_count": 9,
   "id": "7872ea13",
   "metadata": {},
   "outputs": [
    {
     "name": "stdout",
     "output_type": "stream",
     "text": [
      "Cannot solve the system: Singular matrix\n"
     ]
    }
   ],
   "source": [
    "A = np.array([[2, 3],\n",
    "              [4, 6]])\n",
    "b = np.array([5, 10])\n",
    "\n",
    "try:\n",
    "    solution = np.linalg.solve(A, b)\n",
    "    print(\"Solution [x, y]:\", solution)\n",
    "except np.linalg.LinAlgError as e:\n",
    "    print(\"Cannot solve the system:\", e)"
   ]
  },
  {
   "cell_type": "code",
   "execution_count": 10,
   "id": "baf4b2a2",
   "metadata": {},
   "outputs": [],
   "source": [
    "#5.Perform SVD and reconstruct original matrix"
   ]
  },
  {
   "cell_type": "code",
   "execution_count": 11,
   "id": "3c8a6c50",
   "metadata": {},
   "outputs": [
    {
     "name": "stdout",
     "output_type": "stream",
     "text": [
      "Original Matrix D:\n",
      " [[1 2 3]\n",
      " [4 5 6]\n",
      " [7 8 9]]\n",
      "U:\n",
      " [[-0.21483724  0.88723069  0.40824829]\n",
      " [-0.52058739  0.24964395 -0.81649658]\n",
      " [-0.82633754 -0.38794278  0.40824829]]\n",
      "Singular Values: [1.68481034e+01 1.06836951e+00 3.33475287e-16]\n",
      "Vt:\n",
      " [[-0.47967118 -0.57236779 -0.66506441]\n",
      " [-0.77669099 -0.07568647  0.62531805]\n",
      " [-0.40824829  0.81649658 -0.40824829]]\n",
      "Reconstructed Matrix:\n",
      " [[1. 2. 3.]\n",
      " [4. 5. 6.]\n",
      " [7. 8. 9.]]\n"
     ]
    }
   ],
   "source": [
    "D = np.array([[1, 2, 3],\n",
    "              [4, 5, 6],\n",
    "              [7, 8, 9]])\n",
    "\n",
    "\n",
    "U, S, Vt = np.linalg.svd(D)\n",
    "\n",
    "S_matrix = np.zeros((3, 3))\n",
    "S_matrix[:3, :3] = np.diag(S)\n",
    "\n",
    "D_reconstructed = np.dot(U, np.dot(S_matrix, Vt))\n",
    "\n",
    "print(\"Original Matrix D:\\n\", D)\n",
    "print(\"U:\\n\", U)\n",
    "print(\"Singular Values:\", S)\n",
    "print(\"Vt:\\n\", Vt)\n",
    "print(\"Reconstructed Matrix:\\n\", D_reconstructed)"
   ]
  },
  {
   "cell_type": "code",
   "execution_count": null,
   "id": "00fb75e4",
   "metadata": {},
   "outputs": [],
   "source": []
  }
 ],
 "metadata": {
  "kernelspec": {
   "display_name": "Python 3 (ipykernel)",
   "language": "python",
   "name": "python3"
  },
  "language_info": {
   "codemirror_mode": {
    "name": "ipython",
    "version": 3
   },
   "file_extension": ".py",
   "mimetype": "text/x-python",
   "name": "python",
   "nbconvert_exporter": "python",
   "pygments_lexer": "ipython3",
   "version": "3.11.5"
  }
 },
 "nbformat": 4,
 "nbformat_minor": 5
}
