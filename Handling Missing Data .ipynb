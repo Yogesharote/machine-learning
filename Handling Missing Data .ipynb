{
 "cells": [
  {
   "cell_type": "code",
   "execution_count": 1,
   "id": "aadc2866",
   "metadata": {},
   "outputs": [],
   "source": [
    "# Interpolate missing values using linear method"
   ]
  },
  {
   "cell_type": "code",
   "execution_count": 2,
   "id": "9e3759e1",
   "metadata": {},
   "outputs": [],
   "source": [
    "import pandas as pd\n",
    "import numpy as np"
   ]
  },
  {
   "cell_type": "code",
   "execution_count": 3,
   "id": "9dde6b89",
   "metadata": {},
   "outputs": [
    {
     "name": "stdout",
     "output_type": "stream",
     "text": [
      "   Temperature  Temperature_Interpolated\n",
      "0         22.5                     22.50\n",
      "1          NaN                     23.25\n",
      "2         24.0                     24.00\n",
      "3          NaN                     24.75\n",
      "4         25.5                     25.50\n"
     ]
    }
   ],
   "source": [
    "df = pd.DataFrame({\n",
    "    'Temperature': [22.5, np.nan, 24.0, np.nan, 25.5]\n",
    "})\n",
    "\n",
    "df['Temperature_Interpolated'] = df['Temperature'].interpolate(method='linear')\n",
    "\n",
    "print(df)"
   ]
  },
  {
   "cell_type": "code",
   "execution_count": 4,
   "id": "194a1da6",
   "metadata": {},
   "outputs": [],
   "source": [
    "# Use a NumPy mask to fill missing values with a specific value"
   ]
  },
  {
   "cell_type": "code",
   "execution_count": 5,
   "id": "dcd6e5a2",
   "metadata": {},
   "outputs": [
    {
     "name": "stdout",
     "output_type": "stream",
     "text": [
      "   Temperature  Temperature_Interpolated  Temperature_Filled\n",
      "0         22.5                     22.50                22.5\n",
      "1          NaN                     23.25                23.0\n",
      "2         24.0                     24.00                24.0\n",
      "3          NaN                     24.75                23.0\n",
      "4         25.5                     25.50                25.5\n"
     ]
    }
   ],
   "source": [
    "mask = df['Temperature'].isna().to_numpy()\n",
    "\n",
    "df['Temperature_Filled'] = df['Temperature']\n",
    "df.loc[mask, 'Temperature_Filled'] = 23.0\n",
    "\n",
    "print(df)"
   ]
  },
  {
   "cell_type": "code",
   "execution_count": 6,
   "id": "d14258b8",
   "metadata": {},
   "outputs": [],
   "source": [
    "# Identify and replace outliers with the median using a NumPy mask"
   ]
  },
  {
   "cell_type": "code",
   "execution_count": 7,
   "id": "c920042e",
   "metadata": {},
   "outputs": [
    {
     "name": "stdout",
     "output_type": "stream",
     "text": [
      "   Sales  Sales_Cleaned\n",
      "0    100          100.0\n",
      "1    105          105.0\n",
      "2    110          110.0\n",
      "3   5000          112.5\n",
      "4    115          115.0\n",
      "5    120          120.0\n"
     ]
    }
   ],
   "source": [
    "df2 = pd.DataFrame({\n",
    "    'Sales': [100, 105, 110, 5000, 115, 120]  \n",
    "})\n",
    "\n",
    "\n",
    "Q1 = df2['Sales'].quantile(0.25)\n",
    "Q3 = df2['Sales'].quantile(0.75)\n",
    "IQR = Q3 - Q1\n",
    "\n",
    "\n",
    "lower_bound = Q1 - 1.5 * IQR\n",
    "upper_bound = Q3 + 1.5 * IQR\n",
    "\n",
    "\n",
    "outlier_mask = ((df2['Sales'] < lower_bound) | (df2['Sales'] > upper_bound)).to_numpy()\n",
    "\n",
    "\n",
    "median_value = df2['Sales'].median()\n",
    "df2['Sales_Cleaned'] = df2['Sales']\n",
    "df2.loc[outlier_mask, 'Sales_Cleaned'] = median_value\n",
    "\n",
    "print(df2)"
   ]
  }
 ],
 "metadata": {
  "kernelspec": {
   "display_name": "Python 3 (ipykernel)",
   "language": "python",
   "name": "python3"
  },
  "language_info": {
   "codemirror_mode": {
    "name": "ipython",
    "version": 3
   },
   "file_extension": ".py",
   "mimetype": "text/x-python",
   "name": "python",
   "nbconvert_exporter": "python",
   "pygments_lexer": "ipython3",
   "version": "3.11.5"
  }
 },
 "nbformat": 4,
 "nbformat_minor": 5
}
